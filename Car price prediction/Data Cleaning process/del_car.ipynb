{
 "cells": [
  {
   "cell_type": "code",
   "execution_count": 1,
   "metadata": {},
   "outputs": [],
   "source": [
    "import pandas as pd\n",
    "\n",
    "# Load the CSV data\n",
    "df = pd.read_csv(\"D:/Car price prediction/del_car_merged_dataset1.csv\")"
   ]
  },
  {
   "cell_type": "code",
   "execution_count": 2,
   "metadata": {},
   "outputs": [],
   "source": [
    "# Drop multiple columns\n",
    "df = df.drop(columns=['priceActual','Registration Year', 'it','priceSaving','priceFixedText','owner','Engine','Ownership','Seats.1','transmission','km','Fuel Type','Year of Manufacture'])\n"
   ]
  },
  {
   "cell_type": "code",
   "execution_count": 3,
   "metadata": {},
   "outputs": [
    {
     "data": {
      "text/plain": [
       "ft                                 0\n",
       "bt                                 1\n",
       "ownerNo                            0\n",
       "oem                                0\n",
       "model                              0\n",
       "modelYear                          0\n",
       "centralVariantId                   0\n",
       "variantName                        0\n",
       "price                              0\n",
       "trendingText                       0\n",
       "Insurance Validity                 1\n",
       "Seats                              1\n",
       "Kms Driven                         0\n",
       "RTO                              144\n",
       "Engine Displacement                0\n",
       "Transmission                       0\n",
       "Comfort & Convenience              0\n",
       "Interior                           0\n",
       "Exterior                           0\n",
       "Safety                             0\n",
       "Entertainment & Communication      0\n",
       "Mileage                           84\n",
       "Max Power                          3\n",
       "Torque                             3\n",
       "Wheel Size                       520\n",
       "dtype: int64"
      ]
     },
     "execution_count": 3,
     "metadata": {},
     "output_type": "execute_result"
    }
   ],
   "source": [
    "df.isnull().sum()"
   ]
  },
  {
   "cell_type": "code",
   "execution_count": 4,
   "metadata": {},
   "outputs": [
    {
     "name": "stderr",
     "output_type": "stream",
     "text": [
      "C:\\Users\\yashw\\AppData\\Local\\Temp\\ipykernel_46728\\3014743610.py:2: FutureWarning: A value is trying to be set on a copy of a DataFrame or Series through chained assignment using an inplace method.\n",
      "The behavior will change in pandas 3.0. This inplace method will never work because the intermediate object on which we are setting values always behaves as a copy.\n",
      "\n",
      "For example, when doing 'df[col].method(value, inplace=True)', try using 'df.method({col: value}, inplace=True)' or df[col] = df[col].method(value) instead, to perform the operation inplace on the original object.\n",
      "\n",
      "\n",
      "  df['bt'].fillna(\"Unknown\", inplace=True)\n"
     ]
    }
   ],
   "source": [
    "# Fill missing 'bt' values with \"Unknown\"\n",
    "df['bt'].fillna(\"Unknown\", inplace=True)"
   ]
  },
  {
   "cell_type": "code",
   "execution_count": 5,
   "metadata": {},
   "outputs": [
    {
     "name": "stderr",
     "output_type": "stream",
     "text": [
      "C:\\Users\\yashw\\AppData\\Local\\Temp\\ipykernel_46728\\1222625250.py:2: FutureWarning: A value is trying to be set on a copy of a DataFrame or Series through chained assignment using an inplace method.\n",
      "The behavior will change in pandas 3.0. This inplace method will never work because the intermediate object on which we are setting values always behaves as a copy.\n",
      "\n",
      "For example, when doing 'df[col].method(value, inplace=True)', try using 'df.method({col: value}, inplace=True)' or df[col] = df[col].method(value) instead, to perform the operation inplace on the original object.\n",
      "\n",
      "\n",
      "  df['Insurance Validity'].fillna(mode_value, inplace=True)\n"
     ]
    }
   ],
   "source": [
    "mode_value = df['Insurance Validity'].mode()[0]\n",
    "df['Insurance Validity'].fillna(mode_value, inplace=True)"
   ]
  },
  {
   "cell_type": "code",
   "execution_count": 6,
   "metadata": {},
   "outputs": [],
   "source": [
    "df['Seats'] = pd.to_numeric(df['Seats'].str.replace('Seats', '').str.strip(), errors='coerce').fillna(0).astype(int)"
   ]
  },
  {
   "cell_type": "code",
   "execution_count": 7,
   "metadata": {},
   "outputs": [
    {
     "name": "stderr",
     "output_type": "stream",
     "text": [
      "C:\\Users\\yashw\\AppData\\Local\\Temp\\ipykernel_46728\\389677397.py:1: FutureWarning: A value is trying to be set on a copy of a DataFrame or Series through chained assignment using an inplace method.\n",
      "The behavior will change in pandas 3.0. This inplace method will never work because the intermediate object on which we are setting values always behaves as a copy.\n",
      "\n",
      "For example, when doing 'df[col].method(value, inplace=True)', try using 'df.method({col: value}, inplace=True)' or df[col] = df[col].method(value) instead, to perform the operation inplace on the original object.\n",
      "\n",
      "\n",
      "  df['RTO'].fillna('Unknown', inplace=True)\n"
     ]
    }
   ],
   "source": [
    "df['RTO'].fillna('Unknown', inplace=True)"
   ]
  },
  {
   "cell_type": "code",
   "execution_count": 8,
   "metadata": {},
   "outputs": [],
   "source": [
    "df['Mileage'] = pd.to_numeric(df['Mileage'].str.replace(' kmpl', '').str.replace(' km', '').str.strip(), errors='coerce').fillna(0)"
   ]
  },
  {
   "cell_type": "code",
   "execution_count": 9,
   "metadata": {},
   "outputs": [
    {
     "name": "stderr",
     "output_type": "stream",
     "text": [
      "C:\\Users\\yashw\\AppData\\Local\\Temp\\ipykernel_46728\\2161950368.py:4: FutureWarning: A value is trying to be set on a copy of a DataFrame or Series through chained assignment using an inplace method.\n",
      "The behavior will change in pandas 3.0. This inplace method will never work because the intermediate object on which we are setting values always behaves as a copy.\n",
      "\n",
      "For example, when doing 'df[col].method(value, inplace=True)', try using 'df.method({col: value}, inplace=True)' or df[col] = df[col].method(value) instead, to perform the operation inplace on the original object.\n",
      "\n",
      "\n",
      "  df['Max Power'].fillna(df['Max Power'].mean(), inplace=True)\n",
      "C:\\Users\\yashw\\AppData\\Local\\Temp\\ipykernel_46728\\2161950368.py:5: FutureWarning: A value is trying to be set on a copy of a DataFrame or Series through chained assignment using an inplace method.\n",
      "The behavior will change in pandas 3.0. This inplace method will never work because the intermediate object on which we are setting values always behaves as a copy.\n",
      "\n",
      "For example, when doing 'df[col].method(value, inplace=True)', try using 'df.method({col: value}, inplace=True)' or df[col] = df[col].method(value) instead, to perform the operation inplace on the original object.\n",
      "\n",
      "\n",
      "  df['Torque'].fillna(df['Torque'].mean(), inplace=True)\n"
     ]
    }
   ],
   "source": [
    "df['Max Power'] = pd.to_numeric(df['Max Power'].str.replace('bhp', '').str.strip(), errors='coerce')\n",
    "df['Torque'] = pd.to_numeric(df['Torque'].str.replace('Nm', '').str.strip(), errors='coerce')\n",
    "# Fill NaN values in 'Max Power' and 'Torque' with their respective means\n",
    "df['Max Power'].fillna(df['Max Power'].mean(), inplace=True)\n",
    "df['Torque'].fillna(df['Torque'].mean(), inplace=True)"
   ]
  },
  {
   "cell_type": "code",
   "execution_count": 10,
   "metadata": {},
   "outputs": [
    {
     "name": "stderr",
     "output_type": "stream",
     "text": [
      "C:\\Users\\yashw\\AppData\\Local\\Temp\\ipykernel_46728\\2178333416.py:4: FutureWarning: A value is trying to be set on a copy of a DataFrame or Series through chained assignment using an inplace method.\n",
      "The behavior will change in pandas 3.0. This inplace method will never work because the intermediate object on which we are setting values always behaves as a copy.\n",
      "\n",
      "For example, when doing 'df[col].method(value, inplace=True)', try using 'df.method({col: value}, inplace=True)' or df[col] = df[col].method(value) instead, to perform the operation inplace on the original object.\n",
      "\n",
      "\n",
      "  df['Wheel Size'].fillna(mode_value1, inplace=True)\n"
     ]
    }
   ],
   "source": [
    "df['Wheel Size'] = pd.to_numeric(df['Wheel Size'], errors='coerce')\n",
    "mode_value1 = df['Wheel Size'].mode()[0]\n",
    "# Fill NaN values in 'Wheel Size' with the mode\n",
    "df['Wheel Size'].fillna(mode_value1, inplace=True)"
   ]
  },
  {
   "cell_type": "code",
   "execution_count": 11,
   "metadata": {},
   "outputs": [],
   "source": [
    "# Clean the 'Engine' column by removing the 'cc' suffix\n",
    "df['Engine Displacement'] = df['Engine Displacement'].str.replace(' cc', '', regex=False)\n",
    "# Convert to numeric if needed\n",
    "df['Engine Displacement'] = pd.to_numeric(df['Engine Displacement'], errors='coerce')"
   ]
  },
  {
   "cell_type": "code",
   "execution_count": 12,
   "metadata": {},
   "outputs": [],
   "source": [
    "# List of columns you want to convert to lowercase\n",
    "a = ['ft', 'bt', 'oem','model','variantName','Insurance Validity','RTO','Transmission'] \n",
    "# Convert each specified column to lowercase\n",
    "for i in a:\n",
    "    df[i] = df[i].astype(str).str.lower()"
   ]
  },
  {
   "cell_type": "code",
   "execution_count": 13,
   "metadata": {},
   "outputs": [],
   "source": [
    "# Cleaning the 'price' column\n",
    "df['price'] = df['price'].replace(\n",
    "  {'₹ ': '', ',': '', ' Lakh': '*100000', ' Crore': '*10000000'}, regex=True)\n",
    "# Evaluate the string expressions to convert to numeric\n",
    "df['price'] = df['price'].apply(lambda x: eval(x))\n",
    "# Convert to float\n",
    "df['price'] = df['price'].astype(int)"
   ]
  },
  {
   "cell_type": "code",
   "execution_count": 14,
   "metadata": {},
   "outputs": [],
   "source": [
    "df['Kms Driven'] = df['Kms Driven'].str.replace(' Kms', '').str.replace(' km', '').str.replace(',', '').astype(int)"
   ]
  },
  {
   "cell_type": "code",
   "execution_count": 15,
   "metadata": {},
   "outputs": [
    {
     "name": "stdout",
     "output_type": "stream",
     "text": [
      "          ft         bt  ownerNo            oem              model  modelYear  \\\n",
      "0     diesel        suv        1            kia         kia seltos       2022   \n",
      "1     petrol        suv        2        hyundai      hyundai creta       2016   \n",
      "2     petrol        suv        1  mercedes-benz  mercedes-benz glc       2020   \n",
      "3     petrol  hatchback        2         maruti       maruti swift       2018   \n",
      "4     petrol        suv        1        hyundai      hyundai creta       2017   \n",
      "...      ...        ...      ...            ...                ...        ...   \n",
      "1480  petrol      sedan        1          honda         honda city       2019   \n",
      "1481  petrol        suv        1            kia          kia sonet       2021   \n",
      "1482  petrol      sedan        1        hyundai      hyundai verna       2011   \n",
      "1483  diesel        suv        1        hyundai      hyundai creta       2019   \n",
      "1484  diesel        suv        0             mg         mg gloster       2023   \n",
      "\n",
      "      centralVariantId           variantName    price  \\\n",
      "0                 7121    gtx plus diesel at  1900000   \n",
      "1                 1449            1.6 vtvt s   762000   \n",
      "2                 6837                   200  5600000   \n",
      "3                10403                   vxi   523000   \n",
      "4                 5362       1.6 vtvt e plus   765000   \n",
      "...                ...                   ...      ...   \n",
      "1480              5627          i-vtec cvt v   900000   \n",
      "1481              8000         htk plus bsvi   950000   \n",
      "1482              1832           1.6 sx vtvt   418000   \n",
      "1483              6440  1.6 sx option diesel  1195000   \n",
      "1484              9298       savvy 6 str 4x4  4640000   \n",
      "\n",
      "                                           trendingText  ...  \\\n",
      "0     {'imgUrl': 'https://stimg.cardekho.com/used-ca...  ...   \n",
      "1     {'imgUrl': 'https://stimg.cardekho.com/used-ca...  ...   \n",
      "2     {'imgUrl': 'https://stimg.cardekho.com/used-ca...  ...   \n",
      "3     {'imgUrl': 'https://stimg.cardekho.com/used-ca...  ...   \n",
      "4     {'imgUrl': 'https://stimg.cardekho.com/used-ca...  ...   \n",
      "...                                                 ...  ...   \n",
      "1480  {'imgUrl': 'https://stimg.cardekho.com/used-ca...  ...   \n",
      "1481  {'imgUrl': 'https://stimg.cardekho.com/used-ca...  ...   \n",
      "1482  {'imgUrl': 'https://stimg.cardekho.com/used-ca...  ...   \n",
      "1483  {'imgUrl': 'https://stimg.cardekho.com/used-ca...  ...   \n",
      "1484  {'imgUrl': 'https://stimg.cardekho.com/used-ca...  ...   \n",
      "\n",
      "     Comfort & Convenience  Interior  Exterior Safety  \\\n",
      "0                       24        14        20     34   \n",
      "1                       15        10         9     23   \n",
      "2                       31        14        16     42   \n",
      "3                       11         7         7     26   \n",
      "4                       16         9         8     23   \n",
      "...                    ...       ...       ...    ...   \n",
      "1480                    26        11        11     28   \n",
      "1481                    12         9        13     26   \n",
      "1482                    16        11         9     25   \n",
      "1483                    29        12        16     33   \n",
      "1484                    29        13        20     32   \n",
      "\n",
      "      Entertainment & Communication Mileage  Max Power      Torque  \\\n",
      "0                                11   18.00     113.43  250.000000   \n",
      "1                                 8   15.29     121.30  151.000000   \n",
      "2                                12   12.74     197.00  198.950126   \n",
      "3                                 6   22.38      88.50  113.000000   \n",
      "4                                 9   15.29     121.30  151.000000   \n",
      "...                             ...     ...        ...         ...   \n",
      "1480                              9   18.00     117.60  145.000000   \n",
      "1481                             10   18.40      81.86  115.000000   \n",
      "1482                              5   17.01     121.30  154.900000   \n",
      "1483                              7   20.50     126.20  198.950126   \n",
      "1484                             12   12.04     212.55  478.500000   \n",
      "\n",
      "      Wheel Size   city  \n",
      "0           17.0  Delhi  \n",
      "1           16.0  Delhi  \n",
      "2           19.0  Delhi  \n",
      "3           16.0  Delhi  \n",
      "4           16.0  Delhi  \n",
      "...          ...    ...  \n",
      "1480        15.0  Delhi  \n",
      "1481        16.0  Delhi  \n",
      "1482        16.0  Delhi  \n",
      "1483        17.0  Delhi  \n",
      "1484        19.0  Delhi  \n",
      "\n",
      "[1485 rows x 26 columns]\n"
     ]
    }
   ],
   "source": [
    "import pandas as pd\n",
    "\n",
    "#fill with city name\n",
    "df['city'] = 'Delhi'\n",
    "\n",
    "# Display the updated DataFrame\n",
    "print(df)\n"
   ]
  },
  {
   "cell_type": "code",
   "execution_count": 16,
   "metadata": {},
   "outputs": [],
   "source": [
    "# Save the cleaned DataFrame as a CSV file\n",
    "df.to_csv('cleaned_del_car.csv', index=False)"
   ]
  },
  {
   "cell_type": "code",
   "execution_count": 17,
   "metadata": {},
   "outputs": [
    {
     "data": {
      "text/plain": [
       "ft                                object\n",
       "bt                                object\n",
       "ownerNo                            int64\n",
       "oem                               object\n",
       "model                             object\n",
       "modelYear                          int64\n",
       "centralVariantId                   int64\n",
       "variantName                       object\n",
       "price                              int32\n",
       "trendingText                      object\n",
       "Insurance Validity                object\n",
       "Seats                              int32\n",
       "Kms Driven                         int32\n",
       "RTO                               object\n",
       "Engine Displacement                int64\n",
       "Transmission                      object\n",
       "Comfort & Convenience              int64\n",
       "Interior                           int64\n",
       "Exterior                           int64\n",
       "Safety                             int64\n",
       "Entertainment & Communication      int64\n",
       "Mileage                          float64\n",
       "Max Power                        float64\n",
       "Torque                           float64\n",
       "Wheel Size                       float64\n",
       "city                              object\n",
       "dtype: object"
      ]
     },
     "execution_count": 17,
     "metadata": {},
     "output_type": "execute_result"
    }
   ],
   "source": [
    "df.dtypes"
   ]
  },
  {
   "cell_type": "code",
   "execution_count": null,
   "metadata": {},
   "outputs": [],
   "source": []
  }
 ],
 "metadata": {
  "kernelspec": {
   "display_name": "Python 3",
   "language": "python",
   "name": "python3"
  },
  "language_info": {
   "codemirror_mode": {
    "name": "ipython",
    "version": 3
   },
   "file_extension": ".py",
   "mimetype": "text/x-python",
   "name": "python",
   "nbconvert_exporter": "python",
   "pygments_lexer": "ipython3",
   "version": "3.12.4"
  }
 },
 "nbformat": 4,
 "nbformat_minor": 2
}
