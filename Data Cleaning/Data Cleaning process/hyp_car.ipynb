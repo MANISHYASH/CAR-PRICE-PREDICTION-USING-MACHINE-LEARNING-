{
 "cells": [
  {
   "cell_type": "code",
   "execution_count": 1,
   "metadata": {},
   "outputs": [],
   "source": [
    "import pandas as pd\n",
    "\n",
    "# Load the CSV data\n",
    "df = pd.read_csv(\"D:/Car price prediction/hyd_car_merged_dataset1.csv\")"
   ]
  },
  {
   "cell_type": "code",
   "execution_count": 2,
   "metadata": {},
   "outputs": [],
   "source": [
    "# Drop multiple columns\n",
    "df = df.drop(columns=['priceActual','Registration Year', 'it','priceSaving','priceFixedText','owner','Engine','Ownership','Seats.1','transmission','km','Fuel Type','Year of Manufacture'])\n"
   ]
  },
  {
   "cell_type": "code",
   "execution_count": 3,
   "metadata": {},
   "outputs": [
    {
     "data": {
      "text/plain": [
       "ft                                 0\n",
       "bt                                 2\n",
       "ownerNo                            0\n",
       "oem                                0\n",
       "model                              0\n",
       "modelYear                          0\n",
       "centralVariantId                   0\n",
       "variantName                        0\n",
       "price                              0\n",
       "trendingText                       0\n",
       "Insurance Validity                 0\n",
       "Seats                              0\n",
       "Kms Driven                         1\n",
       "RTO                              118\n",
       "Engine Displacement                1\n",
       "Transmission                       0\n",
       "Comfort & Convenience              0\n",
       "Interior                           0\n",
       "Exterior                           0\n",
       "Safety                             0\n",
       "Entertainment & Communication      0\n",
       "Mileage                           42\n",
       "Max Power                         11\n",
       "Torque                            11\n",
       "Wheel Size                       570\n",
       "dtype: int64"
      ]
     },
     "execution_count": 3,
     "metadata": {},
     "output_type": "execute_result"
    }
   ],
   "source": [
    "df.isnull().sum()"
   ]
  },
  {
   "cell_type": "code",
   "execution_count": 4,
   "metadata": {},
   "outputs": [
    {
     "name": "stderr",
     "output_type": "stream",
     "text": [
      "C:\\Users\\yashw\\AppData\\Local\\Temp\\ipykernel_96224\\3014743610.py:2: FutureWarning: A value is trying to be set on a copy of a DataFrame or Series through chained assignment using an inplace method.\n",
      "The behavior will change in pandas 3.0. This inplace method will never work because the intermediate object on which we are setting values always behaves as a copy.\n",
      "\n",
      "For example, when doing 'df[col].method(value, inplace=True)', try using 'df.method({col: value}, inplace=True)' or df[col] = df[col].method(value) instead, to perform the operation inplace on the original object.\n",
      "\n",
      "\n",
      "  df['bt'].fillna(\"Unknown\", inplace=True)\n"
     ]
    }
   ],
   "source": [
    "# Fill missing 'bt' values with \"Unknown\"\n",
    "df['bt'].fillna(\"Unknown\", inplace=True)"
   ]
  },
  {
   "cell_type": "code",
   "execution_count": 5,
   "metadata": {},
   "outputs": [
    {
     "name": "stderr",
     "output_type": "stream",
     "text": [
      "C:\\Users\\yashw\\AppData\\Local\\Temp\\ipykernel_96224\\2335273070.py:8: FutureWarning: A value is trying to be set on a copy of a DataFrame or Series through chained assignment using an inplace method.\n",
      "The behavior will change in pandas 3.0. This inplace method will never work because the intermediate object on which we are setting values always behaves as a copy.\n",
      "\n",
      "For example, when doing 'df[col].method(value, inplace=True)', try using 'df.method({col: value}, inplace=True)' or df[col] = df[col].method(value) instead, to perform the operation inplace on the original object.\n",
      "\n",
      "\n",
      "  df['Kms Driven'].fillna(0, inplace=True)\n"
     ]
    }
   ],
   "source": [
    "# Remove ' Kms', ' km', and commas from the 'Kms Driven' column\n",
    "df['Kms Driven'] = df['Kms Driven'].str.replace(' Kms', '').str.replace(' km', '').str.replace(',', '')\n",
    "\n",
    "# Convert the column to numeric, allowing for NaN values\n",
    "df['Kms Driven'] = pd.to_numeric(df['Kms Driven'], errors='coerce')\n",
    "\n",
    "# Fill NaN values with 0 (or any other value you prefer)\n",
    "df['Kms Driven'].fillna(0, inplace=True)\n",
    "\n",
    "# Convert the column to integers\n",
    "df['Kms Driven'] = df['Kms Driven'].astype(int)\n"
   ]
  },
  {
   "cell_type": "code",
   "execution_count": 6,
   "metadata": {},
   "outputs": [
    {
     "name": "stderr",
     "output_type": "stream",
     "text": [
      "C:\\Users\\yashw\\AppData\\Local\\Temp\\ipykernel_96224\\389677397.py:1: FutureWarning: A value is trying to be set on a copy of a DataFrame or Series through chained assignment using an inplace method.\n",
      "The behavior will change in pandas 3.0. This inplace method will never work because the intermediate object on which we are setting values always behaves as a copy.\n",
      "\n",
      "For example, when doing 'df[col].method(value, inplace=True)', try using 'df.method({col: value}, inplace=True)' or df[col] = df[col].method(value) instead, to perform the operation inplace on the original object.\n",
      "\n",
      "\n",
      "  df['RTO'].fillna('Unknown', inplace=True)\n"
     ]
    }
   ],
   "source": [
    "df['RTO'].fillna('Unknown', inplace=True)"
   ]
  },
  {
   "cell_type": "code",
   "execution_count": 7,
   "metadata": {},
   "outputs": [
    {
     "name": "stderr",
     "output_type": "stream",
     "text": [
      "C:\\Users\\yashw\\AppData\\Local\\Temp\\ipykernel_96224\\3603873835.py:2: FutureWarning: A value is trying to be set on a copy of a DataFrame or Series through chained assignment using an inplace method.\n",
      "The behavior will change in pandas 3.0. This inplace method will never work because the intermediate object on which we are setting values always behaves as a copy.\n",
      "\n",
      "For example, when doing 'df[col].method(value, inplace=True)', try using 'df.method({col: value}, inplace=True)' or df[col] = df[col].method(value) instead, to perform the operation inplace on the original object.\n",
      "\n",
      "\n",
      "  df['Engine Displacement'].fillna(0, inplace=True)\n"
     ]
    }
   ],
   "source": [
    "# Fill NaN values with 0\n",
    "df['Engine Displacement'].fillna(0, inplace=True)"
   ]
  },
  {
   "cell_type": "code",
   "execution_count": 8,
   "metadata": {},
   "outputs": [],
   "source": [
    "df['Mileage'] = pd.to_numeric(df['Mileage'].str.replace(' kmpl', '').str.replace(' km', '').str.strip(), errors='coerce').fillna(0)"
   ]
  },
  {
   "cell_type": "code",
   "execution_count": 9,
   "metadata": {},
   "outputs": [
    {
     "name": "stderr",
     "output_type": "stream",
     "text": [
      "C:\\Users\\yashw\\AppData\\Local\\Temp\\ipykernel_96224\\2161950368.py:4: FutureWarning: A value is trying to be set on a copy of a DataFrame or Series through chained assignment using an inplace method.\n",
      "The behavior will change in pandas 3.0. This inplace method will never work because the intermediate object on which we are setting values always behaves as a copy.\n",
      "\n",
      "For example, when doing 'df[col].method(value, inplace=True)', try using 'df.method({col: value}, inplace=True)' or df[col] = df[col].method(value) instead, to perform the operation inplace on the original object.\n",
      "\n",
      "\n",
      "  df['Max Power'].fillna(df['Max Power'].mean(), inplace=True)\n",
      "C:\\Users\\yashw\\AppData\\Local\\Temp\\ipykernel_96224\\2161950368.py:5: FutureWarning: A value is trying to be set on a copy of a DataFrame or Series through chained assignment using an inplace method.\n",
      "The behavior will change in pandas 3.0. This inplace method will never work because the intermediate object on which we are setting values always behaves as a copy.\n",
      "\n",
      "For example, when doing 'df[col].method(value, inplace=True)', try using 'df.method({col: value}, inplace=True)' or df[col] = df[col].method(value) instead, to perform the operation inplace on the original object.\n",
      "\n",
      "\n",
      "  df['Torque'].fillna(df['Torque'].mean(), inplace=True)\n"
     ]
    }
   ],
   "source": [
    "df['Max Power'] = pd.to_numeric(df['Max Power'].str.replace('bhp', '').str.strip(), errors='coerce')\n",
    "df['Torque'] = pd.to_numeric(df['Torque'].str.replace('Nm', '').str.strip(), errors='coerce')\n",
    "# Fill NaN values in 'Max Power' and 'Torque' with their respective means\n",
    "df['Max Power'].fillna(df['Max Power'].mean(), inplace=True)\n",
    "df['Torque'].fillna(df['Torque'].mean(), inplace=True)"
   ]
  },
  {
   "cell_type": "code",
   "execution_count": 10,
   "metadata": {},
   "outputs": [
    {
     "name": "stderr",
     "output_type": "stream",
     "text": [
      "C:\\Users\\yashw\\AppData\\Local\\Temp\\ipykernel_96224\\2178333416.py:4: FutureWarning: A value is trying to be set on a copy of a DataFrame or Series through chained assignment using an inplace method.\n",
      "The behavior will change in pandas 3.0. This inplace method will never work because the intermediate object on which we are setting values always behaves as a copy.\n",
      "\n",
      "For example, when doing 'df[col].method(value, inplace=True)', try using 'df.method({col: value}, inplace=True)' or df[col] = df[col].method(value) instead, to perform the operation inplace on the original object.\n",
      "\n",
      "\n",
      "  df['Wheel Size'].fillna(mode_value1, inplace=True)\n"
     ]
    }
   ],
   "source": [
    "df['Wheel Size'] = pd.to_numeric(df['Wheel Size'], errors='coerce')\n",
    "mode_value1 = df['Wheel Size'].mode()[0]\n",
    "# Fill NaN values in 'Wheel Size' with the mode\n",
    "df['Wheel Size'].fillna(mode_value1, inplace=True)"
   ]
  },
  {
   "cell_type": "code",
   "execution_count": 11,
   "metadata": {},
   "outputs": [],
   "source": [
    "# Ensure 'Seats' is treated as a string\n",
    "df['Seats'] = df['Seats'].astype(str)\n",
    "# Clean the 'Seats' column by removing the word 'Seats'\n",
    "df['Seats'] = df['Seats'].str.replace(' Seats', '', regex=False)\n",
    "# Convert to int, filling NaN values with 0 before conversion\n",
    "df['Seats'] = pd.to_numeric(df['Seats'], errors='coerce').fillna(0).astype(int)"
   ]
  },
  {
   "cell_type": "code",
   "execution_count": 12,
   "metadata": {},
   "outputs": [],
   "source": [
    "# Clean the 'Engine' column by removing the 'cc' suffix\n",
    "df['Engine Displacement'] = df['Engine Displacement'].str.replace(' cc', '', regex=False)\n",
    "# Convert to numeric if needed\n",
    "df['Engine Displacement'] = pd.to_numeric(df['Engine Displacement'], errors='coerce')\n",
    "\n"
   ]
  },
  {
   "cell_type": "code",
   "execution_count": 13,
   "metadata": {},
   "outputs": [],
   "source": [
    "# List of columns you want to convert to lowercase\n",
    "a = ['ft', 'bt', 'oem','model','variantName','Insurance Validity','RTO','Transmission'] \n",
    "# Convert each specified column to lowercase\n",
    "for i in a:\n",
    "    df[i] = df[i].astype(str).str.lower()"
   ]
  },
  {
   "cell_type": "code",
   "execution_count": 14,
   "metadata": {},
   "outputs": [],
   "source": [
    "# Cleaning the 'price' column\n",
    "df['price'] = df['price'].replace(\n",
    "  {'₹ ': '', ',': '', ' Lakh': '*100000', ' Crore': '*10000000'}, regex=True)\n",
    "# Evaluate the string expressions to convert to numeric\n",
    "df['price'] = df['price'].apply(lambda x: eval(x))\n",
    "# Convert to float\n",
    "df['price'] = df['price'].astype(int)"
   ]
  },
  {
   "cell_type": "code",
   "execution_count": 15,
   "metadata": {},
   "outputs": [
    {
     "name": "stdout",
     "output_type": "stream",
     "text": [
      "          ft         bt  ownerNo         oem            model  modelYear  \\\n",
      "0     petrol  hatchback        1  volkswagen  volkswagen polo       2022   \n",
      "1     petrol  hatchback        2     hyundai      hyundai eon       2014   \n",
      "2     petrol        suv        1     hyundai    hyundai venue       2023   \n",
      "3     petrol  hatchback        1      maruti    maruti baleno       2017   \n",
      "4     petrol        suv        1    mahindra    mahindra thar       2022   \n",
      "...      ...        ...      ...         ...              ...        ...   \n",
      "1478  diesel        suv        1    mahindra  mahindra xuv500       2013   \n",
      "1479  diesel      sedan        1      jaguar        jaguar xf       2014   \n",
      "1480  diesel      sedan        3         bmw     bmw 5 series       2018   \n",
      "1481  diesel        suv        2        tata       tata nexon       2019   \n",
      "1482  diesel        muv        1      toyota    toyota innova       2015   \n",
      "\n",
      "      centralVariantId                 variantName    price  \\\n",
      "0                 7746    1.0 tsi highline plus at  1044000   \n",
      "1                 1502                    era plus   260000   \n",
      "2                 9153                      s bsvi   955000   \n",
      "3                 3970                   1.2 alpha   671000   \n",
      "4                 8074   lx 4-str hard top at bsvi  1900000   \n",
      "...                ...                         ...      ...   \n",
      "1478              3823                      w8 2wd   700000   \n",
      "1479              5007  3.0 litre s premium luxury  2000000   \n",
      "1480               250            520d luxury line  3500000   \n",
      "1481              6500            1.5 revotorq xma   850000   \n",
      "1482              2294      2.5 zx diesel 7 seater  1500000   \n",
      "\n",
      "                                           trendingText  ...  \\\n",
      "0     {'imgUrl': 'https://stimg.cardekho.com/used-ca...  ...   \n",
      "1     {'imgUrl': 'https://stimg.cardekho.com/used-ca...  ...   \n",
      "2     {'imgUrl': 'https://stimg.cardekho.com/used-ca...  ...   \n",
      "3     {'imgUrl': 'https://stimg.cardekho.com/used-ca...  ...   \n",
      "4     {'imgUrl': 'https://stimg.cardekho.com/used-ca...  ...   \n",
      "...                                                 ...  ...   \n",
      "1478  {'imgUrl': 'https://stimg.cardekho.com/used-ca...  ...   \n",
      "1479  {'imgUrl': 'https://stimg.cardekho.com/used-ca...  ...   \n",
      "1480  {'imgUrl': 'https://stimg.cardekho.com/used-ca...  ...   \n",
      "1481  {'imgUrl': 'https://stimg.cardekho.com/used-ca...  ...   \n",
      "1482  {'imgUrl': 'https://stimg.cardekho.com/used-ca...  ...   \n",
      "\n",
      "     Comfort & Convenience  Interior  Exterior Safety  \\\n",
      "0                       18        13        15     30   \n",
      "1                        9         6         6     13   \n",
      "2                       12         9         8     29   \n",
      "3                       15        12        13     28   \n",
      "4                       12        10         7     24   \n",
      "...                    ...       ...       ...    ...   \n",
      "1478                    17        11        12     22   \n",
      "1479                    23        14        12     29   \n",
      "1480                    29        15        20     37   \n",
      "1481                    10        11         6     22   \n",
      "1482                    13        12        11     22   \n",
      "\n",
      "      Entertainment & Communication Mileage  Max Power      Torque  \\\n",
      "0                                10   16.47     108.62  173.805622   \n",
      "1                                 0   21.10      55.20   74.500000   \n",
      "2                                 9    0.00      81.80  113.800000   \n",
      "3                                 9   21.40      83.10  115.000000   \n",
      "4                                 9    0.00     150.00  320.000000   \n",
      "...                             ...     ...        ...         ...   \n",
      "1478                              6   15.10     140.00  330.000000   \n",
      "1479                              9   14.74     270.90  600.000000   \n",
      "1480                             13   20.37     187.74  400.000000   \n",
      "1481                              6   21.50     108.50  260.000000   \n",
      "1482                             10   12.99     100.60  200.000000   \n",
      "\n",
      "      Wheel Size       city  \n",
      "0           16.0  Hyderabad  \n",
      "1           16.0  Hyderabad  \n",
      "2           16.0  Hyderabad  \n",
      "3           16.0  Hyderabad  \n",
      "4           18.0  Hyderabad  \n",
      "...          ...        ...  \n",
      "1478        17.0  Hyderabad  \n",
      "1479        20.0  Hyderabad  \n",
      "1480        16.0  Hyderabad  \n",
      "1481        16.0  Hyderabad  \n",
      "1482        15.0  Hyderabad  \n",
      "\n",
      "[1483 rows x 26 columns]\n"
     ]
    }
   ],
   "source": [
    "import pandas as pd\n",
    "\n",
    "#fill with city name\n",
    "df['city'] = 'Hyderabad'\n",
    "\n",
    "# Display the updated DataFrame\n",
    "print(df)\n"
   ]
  },
  {
   "cell_type": "code",
   "execution_count": 16,
   "metadata": {},
   "outputs": [],
   "source": [
    "# Save the cleaned DataFrame as a CSV file\n",
    "df.to_csv('cleaned_hyd_car.csv', index=False)"
   ]
  },
  {
   "cell_type": "code",
   "execution_count": 17,
   "metadata": {},
   "outputs": [
    {
     "data": {
      "text/plain": [
       "ft                                object\n",
       "bt                                object\n",
       "ownerNo                            int64\n",
       "oem                               object\n",
       "model                             object\n",
       "modelYear                          int64\n",
       "centralVariantId                   int64\n",
       "variantName                       object\n",
       "price                              int32\n",
       "trendingText                      object\n",
       "Insurance Validity                object\n",
       "Seats                              int32\n",
       "Kms Driven                         int32\n",
       "RTO                               object\n",
       "Engine Displacement              float64\n",
       "Transmission                      object\n",
       "Comfort & Convenience              int64\n",
       "Interior                           int64\n",
       "Exterior                           int64\n",
       "Safety                             int64\n",
       "Entertainment & Communication      int64\n",
       "Mileage                          float64\n",
       "Max Power                        float64\n",
       "Torque                           float64\n",
       "Wheel Size                       float64\n",
       "city                              object\n",
       "dtype: object"
      ]
     },
     "execution_count": 17,
     "metadata": {},
     "output_type": "execute_result"
    }
   ],
   "source": [
    "df.dtypes"
   ]
  },
  {
   "cell_type": "code",
   "execution_count": null,
   "metadata": {},
   "outputs": [],
   "source": []
  }
 ],
 "metadata": {
  "kernelspec": {
   "display_name": "Python 3",
   "language": "python",
   "name": "python3"
  },
  "language_info": {
   "codemirror_mode": {
    "name": "ipython",
    "version": 3
   },
   "file_extension": ".py",
   "mimetype": "text/x-python",
   "name": "python",
   "nbconvert_exporter": "python",
   "pygments_lexer": "ipython3",
   "version": "3.12.4"
  }
 },
 "nbformat": 4,
 "nbformat_minor": 2
}
