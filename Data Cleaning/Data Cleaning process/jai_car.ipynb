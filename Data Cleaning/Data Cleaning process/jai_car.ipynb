{
 "cells": [
  {
   "cell_type": "code",
   "execution_count": 1,
   "metadata": {},
   "outputs": [],
   "source": [
    "import pandas as pd\n",
    "\n",
    "# Load the CSV data\n",
    "df = pd.read_csv(\"D:/Car price prediction/jai_car_merged_dataset1.csv\")"
   ]
  },
  {
   "cell_type": "code",
   "execution_count": 2,
   "metadata": {},
   "outputs": [],
   "source": [
    "# Drop multiple columns\n",
    "df = df.drop(columns=['priceActual','Registration Year', 'it','priceSaving','priceFixedText','owner','Engine','Ownership','Seats.1','transmission','km','Fuel Type','Year of Manufacture'])\n"
   ]
  },
  {
   "cell_type": "code",
   "execution_count": 3,
   "metadata": {},
   "outputs": [
    {
     "data": {
      "text/plain": [
       "ft                                 0\n",
       "bt                                 0\n",
       "ownerNo                            0\n",
       "oem                                0\n",
       "model                              0\n",
       "modelYear                          0\n",
       "centralVariantId                   0\n",
       "variantName                        0\n",
       "price                              0\n",
       "trendingText                       0\n",
       "Insurance Validity                 0\n",
       "Seats                              1\n",
       "Kms Driven                         1\n",
       "RTO                              170\n",
       "Engine Displacement                0\n",
       "Transmission                       0\n",
       "Comfort & Convenience              0\n",
       "Interior                           0\n",
       "Exterior                           0\n",
       "Safety                             0\n",
       "Entertainment & Communication      0\n",
       "Mileage                           28\n",
       "Max Power                          9\n",
       "Torque                             9\n",
       "Wheel Size                       429\n",
       "dtype: int64"
      ]
     },
     "execution_count": 3,
     "metadata": {},
     "output_type": "execute_result"
    }
   ],
   "source": [
    "df.isnull().sum()"
   ]
  },
  {
   "cell_type": "code",
   "execution_count": 4,
   "metadata": {},
   "outputs": [],
   "source": [
    "df['Seats'] = pd.to_numeric(df['Seats'].str.replace('Seats', '').str.strip(), errors='coerce').fillna(0).astype(int)"
   ]
  },
  {
   "cell_type": "code",
   "execution_count": 5,
   "metadata": {},
   "outputs": [
    {
     "name": "stderr",
     "output_type": "stream",
     "text": [
      "C:\\Users\\yashw\\AppData\\Local\\Temp\\ipykernel_91208\\2335273070.py:8: FutureWarning: A value is trying to be set on a copy of a DataFrame or Series through chained assignment using an inplace method.\n",
      "The behavior will change in pandas 3.0. This inplace method will never work because the intermediate object on which we are setting values always behaves as a copy.\n",
      "\n",
      "For example, when doing 'df[col].method(value, inplace=True)', try using 'df.method({col: value}, inplace=True)' or df[col] = df[col].method(value) instead, to perform the operation inplace on the original object.\n",
      "\n",
      "\n",
      "  df['Kms Driven'].fillna(0, inplace=True)\n"
     ]
    }
   ],
   "source": [
    "# Remove ' Kms', ' km', and commas from the 'Kms Driven' column\n",
    "df['Kms Driven'] = df['Kms Driven'].str.replace(' Kms', '').str.replace(' km', '').str.replace(',', '')\n",
    "\n",
    "# Convert the column to numeric, allowing for NaN values\n",
    "df['Kms Driven'] = pd.to_numeric(df['Kms Driven'], errors='coerce')\n",
    "\n",
    "# Fill NaN values with 0 (or any other value you prefer)\n",
    "df['Kms Driven'].fillna(0, inplace=True)\n",
    "\n",
    "# Convert the column to integers\n",
    "df['Kms Driven'] = df['Kms Driven'].astype(int)\n"
   ]
  },
  {
   "cell_type": "code",
   "execution_count": 6,
   "metadata": {},
   "outputs": [
    {
     "name": "stderr",
     "output_type": "stream",
     "text": [
      "C:\\Users\\yashw\\AppData\\Local\\Temp\\ipykernel_91208\\389677397.py:1: FutureWarning: A value is trying to be set on a copy of a DataFrame or Series through chained assignment using an inplace method.\n",
      "The behavior will change in pandas 3.0. This inplace method will never work because the intermediate object on which we are setting values always behaves as a copy.\n",
      "\n",
      "For example, when doing 'df[col].method(value, inplace=True)', try using 'df.method({col: value}, inplace=True)' or df[col] = df[col].method(value) instead, to perform the operation inplace on the original object.\n",
      "\n",
      "\n",
      "  df['RTO'].fillna('Unknown', inplace=True)\n"
     ]
    }
   ],
   "source": [
    "df['RTO'].fillna('Unknown', inplace=True)"
   ]
  },
  {
   "cell_type": "code",
   "execution_count": 7,
   "metadata": {},
   "outputs": [],
   "source": [
    "df['Mileage'] = pd.to_numeric(df['Mileage'].str.replace(' kmpl', '').str.replace(' km', '').str.strip(), errors='coerce').fillna(0)"
   ]
  },
  {
   "cell_type": "code",
   "execution_count": 8,
   "metadata": {},
   "outputs": [
    {
     "name": "stderr",
     "output_type": "stream",
     "text": [
      "C:\\Users\\yashw\\AppData\\Local\\Temp\\ipykernel_91208\\2161950368.py:4: FutureWarning: A value is trying to be set on a copy of a DataFrame or Series through chained assignment using an inplace method.\n",
      "The behavior will change in pandas 3.0. This inplace method will never work because the intermediate object on which we are setting values always behaves as a copy.\n",
      "\n",
      "For example, when doing 'df[col].method(value, inplace=True)', try using 'df.method({col: value}, inplace=True)' or df[col] = df[col].method(value) instead, to perform the operation inplace on the original object.\n",
      "\n",
      "\n",
      "  df['Max Power'].fillna(df['Max Power'].mean(), inplace=True)\n",
      "C:\\Users\\yashw\\AppData\\Local\\Temp\\ipykernel_91208\\2161950368.py:5: FutureWarning: A value is trying to be set on a copy of a DataFrame or Series through chained assignment using an inplace method.\n",
      "The behavior will change in pandas 3.0. This inplace method will never work because the intermediate object on which we are setting values always behaves as a copy.\n",
      "\n",
      "For example, when doing 'df[col].method(value, inplace=True)', try using 'df.method({col: value}, inplace=True)' or df[col] = df[col].method(value) instead, to perform the operation inplace on the original object.\n",
      "\n",
      "\n",
      "  df['Torque'].fillna(df['Torque'].mean(), inplace=True)\n"
     ]
    }
   ],
   "source": [
    "df['Max Power'] = pd.to_numeric(df['Max Power'].str.replace('bhp', '').str.strip(), errors='coerce')\n",
    "df['Torque'] = pd.to_numeric(df['Torque'].str.replace('Nm', '').str.strip(), errors='coerce')\n",
    "# Fill NaN values in 'Max Power' and 'Torque' with their respective means\n",
    "df['Max Power'].fillna(df['Max Power'].mean(), inplace=True)\n",
    "df['Torque'].fillna(df['Torque'].mean(), inplace=True)"
   ]
  },
  {
   "cell_type": "code",
   "execution_count": 9,
   "metadata": {},
   "outputs": [
    {
     "name": "stderr",
     "output_type": "stream",
     "text": [
      "C:\\Users\\yashw\\AppData\\Local\\Temp\\ipykernel_91208\\2178333416.py:4: FutureWarning: A value is trying to be set on a copy of a DataFrame or Series through chained assignment using an inplace method.\n",
      "The behavior will change in pandas 3.0. This inplace method will never work because the intermediate object on which we are setting values always behaves as a copy.\n",
      "\n",
      "For example, when doing 'df[col].method(value, inplace=True)', try using 'df.method({col: value}, inplace=True)' or df[col] = df[col].method(value) instead, to perform the operation inplace on the original object.\n",
      "\n",
      "\n",
      "  df['Wheel Size'].fillna(mode_value1, inplace=True)\n"
     ]
    }
   ],
   "source": [
    "df['Wheel Size'] = pd.to_numeric(df['Wheel Size'], errors='coerce')\n",
    "mode_value1 = df['Wheel Size'].mode()[0]\n",
    "# Fill NaN values in 'Wheel Size' with the mode\n",
    "df['Wheel Size'].fillna(mode_value1, inplace=True)"
   ]
  },
  {
   "cell_type": "code",
   "execution_count": 10,
   "metadata": {},
   "outputs": [],
   "source": [
    "df['Kms Driven'] = df['Kms Driven'].astype(str)\n",
    "# Clean the 'Kms Driven' column by removing ' Kms', ' km', and commas\n",
    "df['Kms Driven'] = df['Kms Driven'].str.replace(' Kms', '').str.replace(' km', '').str.replace(',', '').astype(int)"
   ]
  },
  {
   "cell_type": "code",
   "execution_count": 11,
   "metadata": {},
   "outputs": [],
   "source": [
    "# Ensure 'Seats' is treated as a string\n",
    "df['Seats'] = df['Seats'].astype(str)\n",
    "# Clean the 'Seats' column by removing the word 'Seats'\n",
    "df['Seats'] = df['Seats'].str.replace(' Seats', '', regex=False)\n",
    "# Convert to int, filling NaN values with 0 before conversion\n",
    "df['Seats'] = pd.to_numeric(df['Seats'], errors='coerce').fillna(0).astype(int)"
   ]
  },
  {
   "cell_type": "code",
   "execution_count": 12,
   "metadata": {},
   "outputs": [],
   "source": [
    "# Clean the 'Engine' column by removing the 'cc' suffix\n",
    "df['Engine Displacement'] = df['Engine Displacement'].str.replace(' cc', '', regex=False)\n",
    "# Convert to numeric if needed\n",
    "df['Engine Displacement'] = pd.to_numeric(df['Engine Displacement'], errors='coerce')"
   ]
  },
  {
   "cell_type": "code",
   "execution_count": 13,
   "metadata": {},
   "outputs": [],
   "source": [
    "# List of columns you want to convert to lowercase\n",
    "a = ['ft', 'bt', 'oem','model','variantName','Insurance Validity','RTO','Transmission'] \n",
    "# Convert each specified column to lowercase\n",
    "for i in a:\n",
    "    df[i] = df[i].astype(str).str.lower()"
   ]
  },
  {
   "cell_type": "code",
   "execution_count": 14,
   "metadata": {},
   "outputs": [],
   "source": [
    "# Cleaning the 'price' column\n",
    "df['price'] = df['price'].replace(\n",
    "  {'₹ ': '', ',': '', ' Lakh': '*100000', ' Crore': '*10000000'}, regex=True)\n",
    "# Evaluate the string expressions to convert to numeric\n",
    "df['price'] = df['price'].apply(lambda x: eval(x))\n",
    "# Convert to float\n",
    "df['price'] = df['price'].astype(int)"
   ]
  },
  {
   "cell_type": "code",
   "execution_count": 15,
   "metadata": {},
   "outputs": [
    {
     "name": "stdout",
     "output_type": "stream",
     "text": [
      "          ft         bt  ownerNo        oem              model  modelYear  \\\n",
      "0     diesel  hatchback        2    hyundai        hyundai i20       2015   \n",
      "1     petrol  hatchback        1     maruti       maruti swift       2012   \n",
      "2     petrol  hatchback        2     maruti     maruti celerio       2016   \n",
      "3     petrol  hatchback        1    hyundai  hyundai grand i10       2017   \n",
      "4     petrol  hatchback        1     maruti     maruti wagon r       2016   \n",
      "...      ...        ...      ...        ...                ...        ...   \n",
      "1115  petrol  hatchback        1  chevrolet     chevrolet beat       2011   \n",
      "1116  petrol  hatchback        1     maruti        maruti alto       2007   \n",
      "1117  petrol        suv        1    renault      renault kiger       2022   \n",
      "1118  petrol  hatchback        1     maruti        maruti alto       2009   \n",
      "1119  petrol  hatchback        1     maruti      maruti baleno       2018   \n",
      "\n",
      "      centralVariantId           variantName   price  \\\n",
      "0                 1487         asta 1.4 crdi  509999   \n",
      "1                10403                   vxi  381000   \n",
      "2                 3982                vxi at  320000   \n",
      "3                 5602  1.2 kappa magna bsiv  420000   \n",
      "4                 4319               amt vxi  350000   \n",
      "...                ...                   ...     ...   \n",
      "1115               438                    lt  108000   \n",
      "1116              3917                   std  105000   \n",
      "1117              8350                   rxz  850000   \n",
      "1118              3904                   std  100000   \n",
      "1119              3962             1.2 delta  500000   \n",
      "\n",
      "                                           trendingText  ...  \\\n",
      "0     {'imgUrl': 'https://stimg.cardekho.com/used-ca...  ...   \n",
      "1     {'imgUrl': 'https://stimg.cardekho.com/used-ca...  ...   \n",
      "2     {'imgUrl': 'https://stimg.cardekho.com/used-ca...  ...   \n",
      "3     {'imgUrl': 'https://stimg.cardekho.com/used-ca...  ...   \n",
      "4     {'imgUrl': 'https://stimg.cardekho.com/used-ca...  ...   \n",
      "...                                                 ...  ...   \n",
      "1115  {'imgUrl': 'https://stimg.cardekho.com/used-ca...  ...   \n",
      "1116  {'imgUrl': 'https://stimg.cardekho.com/used-ca...  ...   \n",
      "1117  {'imgUrl': 'https://stimg.cardekho.com/used-ca...  ...   \n",
      "1118  {'imgUrl': 'https://stimg.cardekho.com/used-ca...  ...   \n",
      "1119  {'imgUrl': 'https://stimg.cardekho.com/used-ca...  ...   \n",
      "\n",
      "     Comfort & Convenience  Interior  Exterior Safety  \\\n",
      "0                       17        11        12     24   \n",
      "1                       11         7         7     26   \n",
      "2                       10         9         5     13   \n",
      "3                       13         8         8     23   \n",
      "4                       12        10        11     17   \n",
      "...                    ...       ...       ...    ...   \n",
      "1115                    11         8         8      9   \n",
      "1116                     1         2         1      5   \n",
      "1117                    17        11        15     25   \n",
      "1118                     1         2         1      5   \n",
      "1119                    11        10        12     24   \n",
      "\n",
      "      Entertainment & Communication Mileage  Max Power      Torque  \\\n",
      "0                                 7   22.54      88.73  219.700000   \n",
      "1                                 6   22.38      88.50  113.000000   \n",
      "2                                 0   23.10      67.04   90.000000   \n",
      "3                                 6   18.90      81.86  171.203692   \n",
      "4                                 7   20.51      67.00   90.000000   \n",
      "...                             ...     ...        ...         ...   \n",
      "1115                              4   18.60      79.40  108.000000   \n",
      "1116                              0   19.70      46.30   62.000000   \n",
      "1117                             12   19.17      71.01   96.000000   \n",
      "1118                              2   19.70      46.30   62.000000   \n",
      "1119                              8   21.40      83.10  115.000000   \n",
      "\n",
      "      Wheel Size    city  \n",
      "0           16.0  Jaipur  \n",
      "1           16.0  Jaipur  \n",
      "2           16.0  Jaipur  \n",
      "3           16.0  Jaipur  \n",
      "4           16.0  Jaipur  \n",
      "...          ...     ...  \n",
      "1115        14.0  Jaipur  \n",
      "1116        12.0  Jaipur  \n",
      "1117        16.0  Jaipur  \n",
      "1118        12.0  Jaipur  \n",
      "1119        16.0  Jaipur  \n",
      "\n",
      "[1120 rows x 26 columns]\n"
     ]
    }
   ],
   "source": [
    "import pandas as pd\n",
    "\n",
    "#fill with city name\n",
    "df['city'] = 'Jaipur'\n",
    "\n",
    "# Display the updated DataFrame\n",
    "print(df)\n"
   ]
  },
  {
   "cell_type": "code",
   "execution_count": 16,
   "metadata": {},
   "outputs": [
    {
     "data": {
      "text/plain": [
       "ft                                object\n",
       "bt                                object\n",
       "ownerNo                            int64\n",
       "oem                               object\n",
       "model                             object\n",
       "modelYear                          int64\n",
       "centralVariantId                   int64\n",
       "variantName                       object\n",
       "price                              int32\n",
       "trendingText                      object\n",
       "Insurance Validity                object\n",
       "Seats                              int32\n",
       "Kms Driven                         int32\n",
       "RTO                               object\n",
       "Engine Displacement                int64\n",
       "Transmission                      object\n",
       "Comfort & Convenience              int64\n",
       "Interior                           int64\n",
       "Exterior                           int64\n",
       "Safety                             int64\n",
       "Entertainment & Communication      int64\n",
       "Mileage                          float64\n",
       "Max Power                        float64\n",
       "Torque                           float64\n",
       "Wheel Size                       float64\n",
       "city                              object\n",
       "dtype: object"
      ]
     },
     "execution_count": 16,
     "metadata": {},
     "output_type": "execute_result"
    }
   ],
   "source": [
    "df.dtypes"
   ]
  },
  {
   "cell_type": "code",
   "execution_count": 17,
   "metadata": {},
   "outputs": [],
   "source": [
    "# Save the cleaned DataFrame as a CSV file\n",
    "df.to_csv('cleaned_jai_car.csv', index=False)"
   ]
  }
 ],
 "metadata": {
  "kernelspec": {
   "display_name": "Python 3",
   "language": "python",
   "name": "python3"
  },
  "language_info": {
   "codemirror_mode": {
    "name": "ipython",
    "version": 3
   },
   "file_extension": ".py",
   "mimetype": "text/x-python",
   "name": "python",
   "nbconvert_exporter": "python",
   "pygments_lexer": "ipython3",
   "version": "3.12.4"
  }
 },
 "nbformat": 4,
 "nbformat_minor": 2
}
