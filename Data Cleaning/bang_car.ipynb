{
 "cells": [
  {
   "cell_type": "code",
   "execution_count": 1,
   "metadata": {},
   "outputs": [],
   "source": [
    "import pandas as pd\n",
    "\n",
    "# Load the CSV data\n",
    "df = pd.read_csv(\"D:/Car price prediction/bang_car_merged_dataset1.csv\")"
   ]
  },
  {
   "cell_type": "code",
   "execution_count": 2,
   "metadata": {},
   "outputs": [],
   "source": [
    "# Drop multiple columns\n",
    "df = df.drop(columns=['priceActual','Registration Year', 'it','priceSaving','priceFixedText','owner','Engine','Ownership','Seats.1','transmission','km','Fuel Type','Year of Manufacture'])\n"
   ]
  },
  {
   "cell_type": "code",
   "execution_count": 3,
   "metadata": {},
   "outputs": [
    {
     "data": {
      "text/plain": [
       "ft                                 0\n",
       "bt                                 0\n",
       "ownerNo                            0\n",
       "oem                                0\n",
       "model                              0\n",
       "modelYear                          0\n",
       "centralVariantId                   0\n",
       "variantName                        0\n",
       "price                              0\n",
       "trendingText                       0\n",
       "Insurance Validity                 3\n",
       "Seats                              1\n",
       "Kms Driven                         0\n",
       "RTO                              168\n",
       "Engine Displacement                3\n",
       "Transmission                       0\n",
       "Comfort & Convenience              0\n",
       "Interior                           0\n",
       "Exterior                           0\n",
       "Safety                             0\n",
       "Entertainment & Communication      0\n",
       "Mileage                           42\n",
       "Max Power                         16\n",
       "Torque                            16\n",
       "Wheel Size                       452\n",
       "dtype: int64"
      ]
     },
     "execution_count": 3,
     "metadata": {},
     "output_type": "execute_result"
    }
   ],
   "source": [
    "df.isnull().sum()\n"
   ]
  },
  {
   "cell_type": "code",
   "execution_count": 4,
   "metadata": {},
   "outputs": [
    {
     "name": "stderr",
     "output_type": "stream",
     "text": [
      "C:\\Users\\yashw\\AppData\\Local\\Temp\\ipykernel_96204\\1222625250.py:2: FutureWarning: A value is trying to be set on a copy of a DataFrame or Series through chained assignment using an inplace method.\n",
      "The behavior will change in pandas 3.0. This inplace method will never work because the intermediate object on which we are setting values always behaves as a copy.\n",
      "\n",
      "For example, when doing 'df[col].method(value, inplace=True)', try using 'df.method({col: value}, inplace=True)' or df[col] = df[col].method(value) instead, to perform the operation inplace on the original object.\n",
      "\n",
      "\n",
      "  df['Insurance Validity'].fillna(mode_value, inplace=True)\n"
     ]
    }
   ],
   "source": [
    "mode_value = df['Insurance Validity'].mode()[0]\n",
    "df['Insurance Validity'].fillna(mode_value, inplace=True)"
   ]
  },
  {
   "cell_type": "code",
   "execution_count": 5,
   "metadata": {},
   "outputs": [
    {
     "name": "stderr",
     "output_type": "stream",
     "text": [
      "C:\\Users\\yashw\\AppData\\Local\\Temp\\ipykernel_96204\\738788701.py:3: FutureWarning: A value is trying to be set on a copy of a DataFrame or Series through chained assignment using an inplace method.\n",
      "The behavior will change in pandas 3.0. This inplace method will never work because the intermediate object on which we are setting values always behaves as a copy.\n",
      "\n",
      "For example, when doing 'df[col].method(value, inplace=True)', try using 'df.method({col: value}, inplace=True)' or df[col] = df[col].method(value) instead, to perform the operation inplace on the original object.\n",
      "\n",
      "\n",
      "  df['Seats'].fillna(mode_value, inplace=True)\n"
     ]
    }
   ],
   "source": [
    "mode_value = df['Seats'].mode()[0]\n",
    "# Fill missing values in 'Seats' with the mode\n",
    "df['Seats'].fillna(mode_value, inplace=True)"
   ]
  },
  {
   "cell_type": "code",
   "execution_count": 6,
   "metadata": {},
   "outputs": [
    {
     "name": "stderr",
     "output_type": "stream",
     "text": [
      "C:\\Users\\yashw\\AppData\\Local\\Temp\\ipykernel_96204\\389677397.py:1: FutureWarning: A value is trying to be set on a copy of a DataFrame or Series through chained assignment using an inplace method.\n",
      "The behavior will change in pandas 3.0. This inplace method will never work because the intermediate object on which we are setting values always behaves as a copy.\n",
      "\n",
      "For example, when doing 'df[col].method(value, inplace=True)', try using 'df.method({col: value}, inplace=True)' or df[col] = df[col].method(value) instead, to perform the operation inplace on the original object.\n",
      "\n",
      "\n",
      "  df['RTO'].fillna('Unknown', inplace=True)\n"
     ]
    }
   ],
   "source": [
    "df['RTO'].fillna('Unknown', inplace=True)"
   ]
  },
  {
   "cell_type": "code",
   "execution_count": 7,
   "metadata": {},
   "outputs": [
    {
     "name": "stderr",
     "output_type": "stream",
     "text": [
      "C:\\Users\\yashw\\AppData\\Local\\Temp\\ipykernel_96204\\1258263944.py:4: FutureWarning: A value is trying to be set on a copy of a DataFrame or Series through chained assignment using an inplace method.\n",
      "The behavior will change in pandas 3.0. This inplace method will never work because the intermediate object on which we are setting values always behaves as a copy.\n",
      "\n",
      "For example, when doing 'df[col].method(value, inplace=True)', try using 'df.method({col: value}, inplace=True)' or df[col] = df[col].method(value) instead, to perform the operation inplace on the original object.\n",
      "\n",
      "\n",
      "  df['Engine Displacement'].fillna(mode_value, inplace=True)\n"
     ]
    }
   ],
   "source": [
    "# Calculate the mode of the 'Engine Displacement' column\n",
    "mode_value = df['Engine Displacement'].mode()[0]\n",
    "# Fill missing values in 'Engine Displacement' with the mode\n",
    "df['Engine Displacement'].fillna(mode_value, inplace=True)"
   ]
  },
  {
   "cell_type": "code",
   "execution_count": 8,
   "metadata": {},
   "outputs": [],
   "source": [
    "df['Mileage'] = pd.to_numeric(df['Mileage'].str.replace(' kmpl', '').str.replace(' km', '').str.strip(), errors='coerce').fillna(0)"
   ]
  },
  {
   "cell_type": "code",
   "execution_count": 9,
   "metadata": {},
   "outputs": [
    {
     "name": "stderr",
     "output_type": "stream",
     "text": [
      "C:\\Users\\yashw\\AppData\\Local\\Temp\\ipykernel_96204\\2161950368.py:4: FutureWarning: A value is trying to be set on a copy of a DataFrame or Series through chained assignment using an inplace method.\n",
      "The behavior will change in pandas 3.0. This inplace method will never work because the intermediate object on which we are setting values always behaves as a copy.\n",
      "\n",
      "For example, when doing 'df[col].method(value, inplace=True)', try using 'df.method({col: value}, inplace=True)' or df[col] = df[col].method(value) instead, to perform the operation inplace on the original object.\n",
      "\n",
      "\n",
      "  df['Max Power'].fillna(df['Max Power'].mean(), inplace=True)\n",
      "C:\\Users\\yashw\\AppData\\Local\\Temp\\ipykernel_96204\\2161950368.py:5: FutureWarning: A value is trying to be set on a copy of a DataFrame or Series through chained assignment using an inplace method.\n",
      "The behavior will change in pandas 3.0. This inplace method will never work because the intermediate object on which we are setting values always behaves as a copy.\n",
      "\n",
      "For example, when doing 'df[col].method(value, inplace=True)', try using 'df.method({col: value}, inplace=True)' or df[col] = df[col].method(value) instead, to perform the operation inplace on the original object.\n",
      "\n",
      "\n",
      "  df['Torque'].fillna(df['Torque'].mean(), inplace=True)\n"
     ]
    }
   ],
   "source": [
    "df['Max Power'] = pd.to_numeric(df['Max Power'].str.replace('bhp', '').str.strip(), errors='coerce')\n",
    "df['Torque'] = pd.to_numeric(df['Torque'].str.replace('Nm', '').str.strip(), errors='coerce')\n",
    "# Fill NaN values in 'Max Power' and 'Torque' with their respective means\n",
    "df['Max Power'].fillna(df['Max Power'].mean(), inplace=True)\n",
    "df['Torque'].fillna(df['Torque'].mean(), inplace=True)"
   ]
  },
  {
   "cell_type": "code",
   "execution_count": 10,
   "metadata": {},
   "outputs": [
    {
     "name": "stderr",
     "output_type": "stream",
     "text": [
      "C:\\Users\\yashw\\AppData\\Local\\Temp\\ipykernel_96204\\1812922504.py:4: FutureWarning: A value is trying to be set on a copy of a DataFrame or Series through chained assignment using an inplace method.\n",
      "The behavior will change in pandas 3.0. This inplace method will never work because the intermediate object on which we are setting values always behaves as a copy.\n",
      "\n",
      "For example, when doing 'df[col].method(value, inplace=True)', try using 'df.method({col: value}, inplace=True)' or df[col] = df[col].method(value) instead, to perform the operation inplace on the original object.\n",
      "\n",
      "\n",
      "  df['Wheel Size'].fillna(mode_value, inplace=True)\n"
     ]
    }
   ],
   "source": [
    "df['Wheel Size'] = pd.to_numeric(df['Wheel Size'], errors='coerce')\n",
    "mode_value = df['Wheel Size'].mode()[0]\n",
    "# Fill NaN values in 'Wheel Size' with the mode\n",
    "df['Wheel Size'].fillna(mode_value, inplace=True)"
   ]
  },
  {
   "cell_type": "code",
   "execution_count": 11,
   "metadata": {},
   "outputs": [],
   "source": [
    "df['Kms Driven'] = df['Kms Driven'].str.replace(' Kms', '').str.replace(' km', '').str.replace(',', '').astype(int)"
   ]
  },
  {
   "cell_type": "code",
   "execution_count": 12,
   "metadata": {},
   "outputs": [],
   "source": [
    "# Ensure 'Seats' is treated as a string\n",
    "df['Seats'] = df['Seats'].astype(str)\n",
    "# Clean the 'Seats' column by removing the word 'Seats'\n",
    "df['Seats'] = df['Seats'].str.replace(' Seats', '', regex=False)\n",
    "# Convert to int, filling NaN values with 0 before conversion\n",
    "df['Seats'] = pd.to_numeric(df['Seats'], errors='coerce').fillna(0).astype(int)"
   ]
  },
  {
   "cell_type": "code",
   "execution_count": 13,
   "metadata": {},
   "outputs": [],
   "source": [
    "# Clean the 'Engine' column by removing the 'cc' suffix\n",
    "df['Engine Displacement'] = df['Engine Displacement'].str.replace(' cc', '', regex=False)\n",
    "# Convert to numeric if needed\n",
    "df['Engine Displacement'] = pd.to_numeric(df['Engine Displacement'], errors='coerce')"
   ]
  },
  {
   "cell_type": "code",
   "execution_count": 14,
   "metadata": {},
   "outputs": [],
   "source": [
    "# Cleaning the 'price' column\n",
    "df['price'] = df['price'].replace(\n",
    "  {'₹ ': '', ',': '', ' Lakh': '*100000', ' Crore': '*10000000'}, regex=True)\n",
    "# Evaluate the string expressions to convert to numeric\n",
    "df['price'] = df['price'].apply(lambda x: eval(x))\n",
    "# Convert to float\n",
    "df['price'] = df['price'].astype(int)"
   ]
  },
  {
   "cell_type": "code",
   "execution_count": 15,
   "metadata": {},
   "outputs": [],
   "source": [
    "# List of columns you want to convert to lowercase\n",
    "a = ['ft', 'bt', 'oem','model','variantName','Insurance Validity','RTO','Transmission'] \n",
    "# Convert each specified column to lowercase\n",
    "for i in a:\n",
    "    df[i] = df[i].astype(str).str.lower()"
   ]
  },
  {
   "cell_type": "code",
   "execution_count": 16,
   "metadata": {},
   "outputs": [],
   "source": [
    "df['price'] = df['price'].astype(object)\n",
    "df['Engine Displacement'] = df['Engine Displacement'].astype(object)"
   ]
  },
  {
   "cell_type": "code",
   "execution_count": 17,
   "metadata": {},
   "outputs": [
    {
     "name": "stdout",
     "output_type": "stream",
     "text": [
      "          ft         bt  ownerNo      oem               model  modelYear  \\\n",
      "0     petrol  hatchback        3   maruti      maruti celerio       2015   \n",
      "1     petrol        suv        2     ford       ford ecosport       2018   \n",
      "2     petrol  hatchback        1     tata          tata tiago       2018   \n",
      "3     petrol      sedan        1  hyundai       hyundai xcent       2014   \n",
      "4     diesel        suv        1   maruti  maruti sx4 s cross       2015   \n",
      "...      ...        ...      ...      ...                 ...        ...   \n",
      "1476  diesel        suv        2   toyota     toyota fortuner       2012   \n",
      "1477  petrol      sedan        2   maruti          maruti sx4       2008   \n",
      "1478  petrol  hatchback        2    honda          honda brio       2014   \n",
      "1479  diesel  hatchback        1  hyundai         hyundai i20       2018   \n",
      "1480  petrol  hatchback        2  hyundai   hyundai grand i10       2017   \n",
      "\n",
      "      centralVariantId               variantName    price  \\\n",
      "0                 3979                       vxi   400000   \n",
      "1                 6087  1.5 petrol titanium bsiv   811000   \n",
      "2                 2983           1.2 revotron xz   585000   \n",
      "3                 1867        1.2 kappa s option   462000   \n",
      "4                 4277             ddis 200 zeta   790000   \n",
      "...                ...                       ...      ...   \n",
      "1476              2253                    4x4 mt  1648999   \n",
      "1477              4257                 zxi bsiii   330000   \n",
      "1478              1188                      s mt   425000   \n",
      "1479              5695        1.4 asta dual tone   750000   \n",
      "1480              1523            asta option at   675000   \n",
      "\n",
      "                                           trendingText  ...  \\\n",
      "0     {'imgUrl': 'https://stimg.cardekho.com/used-ca...  ...   \n",
      "1     {'imgUrl': 'https://stimg.cardekho.com/used-ca...  ...   \n",
      "2     {'imgUrl': 'https://stimg.cardekho.com/used-ca...  ...   \n",
      "3     {'imgUrl': 'https://stimg.cardekho.com/used-ca...  ...   \n",
      "4     {'imgUrl': 'https://stimg.cardekho.com/used-ca...  ...   \n",
      "...                                                 ...  ...   \n",
      "1476  {'imgUrl': 'https://stimg.cardekho.com/used-ca...  ...   \n",
      "1477  {'imgUrl': 'https://stimg.cardekho.com/used-ca...  ...   \n",
      "1478  {'imgUrl': 'https://stimg.cardekho.com/used-ca...  ...   \n",
      "1479  {'imgUrl': 'https://stimg.cardekho.com/used-ca...  ...   \n",
      "1480  {'imgUrl': 'https://stimg.cardekho.com/used-ca...  ...   \n",
      "\n",
      "     Comfort & Convenience  Interior  Exterior Safety  \\\n",
      "0                       10         7         5     13   \n",
      "1                       17        12        12     27   \n",
      "2                       14        12        13     24   \n",
      "3                       16        10        10     18   \n",
      "4                       21        11        13     22   \n",
      "...                    ...       ...       ...    ...   \n",
      "1476                    19        11        12     26   \n",
      "1477                    16        12         6     19   \n",
      "1478                    12        10         6     16   \n",
      "1479                    19        11        11     26   \n",
      "1480                    15        11        14     20   \n",
      "\n",
      "     Entertainment & Communication Mileage  Max Power  Torque  Wheel Size  \\\n",
      "0                                0   23.10      67.04   90.00        16.0   \n",
      "1                                9   17.00     121.31  150.00        16.0   \n",
      "2                                8   23.84      84.00  114.00        14.0   \n",
      "3                                7   19.10      81.86  113.75        14.0   \n",
      "4                                8   23.65      88.50  200.00        16.0   \n",
      "...                            ...     ...        ...     ...         ...   \n",
      "1476                            10   12.55     168.50  343.00        17.0   \n",
      "1477                             5   15.00     104.68  145.00        16.0   \n",
      "1478                             5   19.40      86.80  109.00        16.0   \n",
      "1479                             9   22.54      88.73  219.70        16.0   \n",
      "1480                             7   18.90      82.00  114.00        14.0   \n",
      "\n",
      "           city  \n",
      "0     Bangalore  \n",
      "1     Bangalore  \n",
      "2     Bangalore  \n",
      "3     Bangalore  \n",
      "4     Bangalore  \n",
      "...         ...  \n",
      "1476  Bangalore  \n",
      "1477  Bangalore  \n",
      "1478  Bangalore  \n",
      "1479  Bangalore  \n",
      "1480  Bangalore  \n",
      "\n",
      "[1481 rows x 26 columns]\n"
     ]
    }
   ],
   "source": [
    "import pandas as pd\n",
    "\n",
    "#fill with city name\n",
    "df['city'] = 'Bangalore'\n",
    "\n",
    "# Display the updated DataFrame\n",
    "print(df)\n"
   ]
  },
  {
   "cell_type": "code",
   "execution_count": 18,
   "metadata": {},
   "outputs": [],
   "source": [
    "# Save the cleaned DataFrame as a CSV file\n",
    "df.to_csv('cleaned_bang_car.csv', index=False)"
   ]
  },
  {
   "cell_type": "code",
   "execution_count": 19,
   "metadata": {},
   "outputs": [
    {
     "data": {
      "text/plain": [
       "ft                                object\n",
       "bt                                object\n",
       "ownerNo                            int64\n",
       "oem                               object\n",
       "model                             object\n",
       "modelYear                          int64\n",
       "centralVariantId                   int64\n",
       "variantName                       object\n",
       "price                             object\n",
       "trendingText                      object\n",
       "Insurance Validity                object\n",
       "Seats                              int32\n",
       "Kms Driven                         int32\n",
       "RTO                               object\n",
       "Engine Displacement               object\n",
       "Transmission                      object\n",
       "Comfort & Convenience              int64\n",
       "Interior                           int64\n",
       "Exterior                           int64\n",
       "Safety                             int64\n",
       "Entertainment & Communication      int64\n",
       "Mileage                          float64\n",
       "Max Power                        float64\n",
       "Torque                           float64\n",
       "Wheel Size                       float64\n",
       "city                              object\n",
       "dtype: object"
      ]
     },
     "execution_count": 19,
     "metadata": {},
     "output_type": "execute_result"
    }
   ],
   "source": [
    "df.dtypes"
   ]
  }
 ],
 "metadata": {
  "kernelspec": {
   "display_name": "Python 3",
   "language": "python",
   "name": "python3"
  },
  "language_info": {
   "codemirror_mode": {
    "name": "ipython",
    "version": 3
   },
   "file_extension": ".py",
   "mimetype": "text/x-python",
   "name": "python",
   "nbconvert_exporter": "python",
   "pygments_lexer": "ipython3",
   "version": "3.12.4"
  }
 },
 "nbformat": 4,
 "nbformat_minor": 2
}
