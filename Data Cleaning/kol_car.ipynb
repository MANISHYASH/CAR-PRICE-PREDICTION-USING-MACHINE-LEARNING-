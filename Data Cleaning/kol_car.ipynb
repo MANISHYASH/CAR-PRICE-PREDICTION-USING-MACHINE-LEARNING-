{
 "cells": [
  {
   "cell_type": "code",
   "execution_count": 2,
   "metadata": {},
   "outputs": [],
   "source": [
    "import pandas as pd\n",
    "\n",
    "# Load the CSV data\n",
    "df = pd.read_csv(\"D:/Car price prediction/kol_car_merged_dataset1.csv\")"
   ]
  },
  {
   "cell_type": "code",
   "execution_count": 3,
   "metadata": {},
   "outputs": [],
   "source": [
    "# Drop multiple columns\n",
    "df = df.drop(columns=['priceActual','Registration Year', 'it','priceSaving','priceFixedText','owner','Engine','Ownership','Seats.1','transmission','km','Fuel Type','Year of Manufacture'])\n"
   ]
  },
  {
   "cell_type": "code",
   "execution_count": 4,
   "metadata": {},
   "outputs": [
    {
     "data": {
      "text/plain": [
       "ft                                 0\n",
       "bt                                 1\n",
       "ownerNo                            0\n",
       "oem                                0\n",
       "model                              0\n",
       "modelYear                          0\n",
       "centralVariantId                   0\n",
       "variantName                        0\n",
       "price                              0\n",
       "trendingText                       0\n",
       "Insurance Validity                 0\n",
       "Seats                              3\n",
       "Kms Driven                         0\n",
       "RTO                              184\n",
       "Engine Displacement                0\n",
       "Transmission                       0\n",
       "Comfort & Convenience              0\n",
       "Interior                           0\n",
       "Exterior                           0\n",
       "Safety                             0\n",
       "Entertainment & Communication      0\n",
       "Mileage                           47\n",
       "Max Power                         10\n",
       "Torque                            10\n",
       "Wheel Size                       544\n",
       "dtype: int64"
      ]
     },
     "execution_count": 4,
     "metadata": {},
     "output_type": "execute_result"
    }
   ],
   "source": [
    "df.isnull().sum()"
   ]
  },
  {
   "cell_type": "code",
   "execution_count": 5,
   "metadata": {},
   "outputs": [
    {
     "name": "stderr",
     "output_type": "stream",
     "text": [
      "C:\\Users\\yashw\\AppData\\Local\\Temp\\ipykernel_101232\\3014743610.py:2: FutureWarning: A value is trying to be set on a copy of a DataFrame or Series through chained assignment using an inplace method.\n",
      "The behavior will change in pandas 3.0. This inplace method will never work because the intermediate object on which we are setting values always behaves as a copy.\n",
      "\n",
      "For example, when doing 'df[col].method(value, inplace=True)', try using 'df.method({col: value}, inplace=True)' or df[col] = df[col].method(value) instead, to perform the operation inplace on the original object.\n",
      "\n",
      "\n",
      "  df['bt'].fillna(\"Unknown\", inplace=True)\n"
     ]
    }
   ],
   "source": [
    "# Fill missing 'bt' values with \"Unknown\"\n",
    "df['bt'].fillna(\"Unknown\", inplace=True)"
   ]
  },
  {
   "cell_type": "code",
   "execution_count": 6,
   "metadata": {},
   "outputs": [],
   "source": [
    "df['Seats'] = pd.to_numeric(df['Seats'].str.replace('Seats', '').str.strip(), errors='coerce').fillna(0).astype(int)"
   ]
  },
  {
   "cell_type": "code",
   "execution_count": 7,
   "metadata": {},
   "outputs": [
    {
     "name": "stderr",
     "output_type": "stream",
     "text": [
      "C:\\Users\\yashw\\AppData\\Local\\Temp\\ipykernel_101232\\389677397.py:1: FutureWarning: A value is trying to be set on a copy of a DataFrame or Series through chained assignment using an inplace method.\n",
      "The behavior will change in pandas 3.0. This inplace method will never work because the intermediate object on which we are setting values always behaves as a copy.\n",
      "\n",
      "For example, when doing 'df[col].method(value, inplace=True)', try using 'df.method({col: value}, inplace=True)' or df[col] = df[col].method(value) instead, to perform the operation inplace on the original object.\n",
      "\n",
      "\n",
      "  df['RTO'].fillna('Unknown', inplace=True)\n"
     ]
    }
   ],
   "source": [
    "df['RTO'].fillna('Unknown', inplace=True)"
   ]
  },
  {
   "cell_type": "code",
   "execution_count": 8,
   "metadata": {},
   "outputs": [],
   "source": [
    "df['Mileage'] = pd.to_numeric(df['Mileage'].str.replace(' kmpl', '').str.replace(' km', '').str.strip(), errors='coerce').fillna(0)"
   ]
  },
  {
   "cell_type": "code",
   "execution_count": 9,
   "metadata": {},
   "outputs": [
    {
     "name": "stderr",
     "output_type": "stream",
     "text": [
      "C:\\Users\\yashw\\AppData\\Local\\Temp\\ipykernel_101232\\2161950368.py:4: FutureWarning: A value is trying to be set on a copy of a DataFrame or Series through chained assignment using an inplace method.\n",
      "The behavior will change in pandas 3.0. This inplace method will never work because the intermediate object on which we are setting values always behaves as a copy.\n",
      "\n",
      "For example, when doing 'df[col].method(value, inplace=True)', try using 'df.method({col: value}, inplace=True)' or df[col] = df[col].method(value) instead, to perform the operation inplace on the original object.\n",
      "\n",
      "\n",
      "  df['Max Power'].fillna(df['Max Power'].mean(), inplace=True)\n",
      "C:\\Users\\yashw\\AppData\\Local\\Temp\\ipykernel_101232\\2161950368.py:5: FutureWarning: A value is trying to be set on a copy of a DataFrame or Series through chained assignment using an inplace method.\n",
      "The behavior will change in pandas 3.0. This inplace method will never work because the intermediate object on which we are setting values always behaves as a copy.\n",
      "\n",
      "For example, when doing 'df[col].method(value, inplace=True)', try using 'df.method({col: value}, inplace=True)' or df[col] = df[col].method(value) instead, to perform the operation inplace on the original object.\n",
      "\n",
      "\n",
      "  df['Torque'].fillna(df['Torque'].mean(), inplace=True)\n"
     ]
    }
   ],
   "source": [
    "df['Max Power'] = pd.to_numeric(df['Max Power'].str.replace('bhp', '').str.strip(), errors='coerce')\n",
    "df['Torque'] = pd.to_numeric(df['Torque'].str.replace('Nm', '').str.strip(), errors='coerce')\n",
    "# Fill NaN values in 'Max Power' and 'Torque' with their respective means\n",
    "df['Max Power'].fillna(df['Max Power'].mean(), inplace=True)\n",
    "df['Torque'].fillna(df['Torque'].mean(), inplace=True)"
   ]
  },
  {
   "cell_type": "code",
   "execution_count": 10,
   "metadata": {},
   "outputs": [
    {
     "name": "stderr",
     "output_type": "stream",
     "text": [
      "C:\\Users\\yashw\\AppData\\Local\\Temp\\ipykernel_101232\\1812922504.py:4: FutureWarning: A value is trying to be set on a copy of a DataFrame or Series through chained assignment using an inplace method.\n",
      "The behavior will change in pandas 3.0. This inplace method will never work because the intermediate object on which we are setting values always behaves as a copy.\n",
      "\n",
      "For example, when doing 'df[col].method(value, inplace=True)', try using 'df.method({col: value}, inplace=True)' or df[col] = df[col].method(value) instead, to perform the operation inplace on the original object.\n",
      "\n",
      "\n",
      "  df['Wheel Size'].fillna(mode_value, inplace=True)\n"
     ]
    }
   ],
   "source": [
    "df['Wheel Size'] = pd.to_numeric(df['Wheel Size'], errors='coerce')\n",
    "mode_value = df['Wheel Size'].mode()[0]\n",
    "# Fill NaN values in 'Wheel Size' with the mode\n",
    "df['Wheel Size'].fillna(mode_value, inplace=True)"
   ]
  },
  {
   "cell_type": "code",
   "execution_count": 11,
   "metadata": {},
   "outputs": [],
   "source": [
    "df['Kms Driven'] = df['Kms Driven'].str.replace(' Kms', '').str.replace(' km', '').str.replace(',', '').astype(int)"
   ]
  },
  {
   "cell_type": "code",
   "execution_count": 12,
   "metadata": {},
   "outputs": [],
   "source": [
    "# Ensure 'Seats' is treated as a string\n",
    "df['Seats'] = df['Seats'].astype(str)\n",
    "# Clean the 'Seats' column by removing the word 'Seats'\n",
    "df['Seats'] = df['Seats'].str.replace(' Seats', '', regex=False)\n",
    "# Convert to int, filling NaN values with 0 before conversion\n",
    "df['Seats'] = pd.to_numeric(df['Seats'], errors='coerce').fillna(0).astype(int)"
   ]
  },
  {
   "cell_type": "code",
   "execution_count": 13,
   "metadata": {},
   "outputs": [
    {
     "data": {
      "text/plain": [
       "ft                                object\n",
       "bt                                object\n",
       "ownerNo                            int64\n",
       "oem                               object\n",
       "model                             object\n",
       "modelYear                          int64\n",
       "centralVariantId                   int64\n",
       "variantName                       object\n",
       "price                             object\n",
       "trendingText                      object\n",
       "Insurance Validity                object\n",
       "Seats                              int32\n",
       "Kms Driven                         int32\n",
       "RTO                               object\n",
       "Engine Displacement               object\n",
       "Transmission                      object\n",
       "Comfort & Convenience              int64\n",
       "Interior                           int64\n",
       "Exterior                           int64\n",
       "Safety                             int64\n",
       "Entertainment & Communication      int64\n",
       "Mileage                          float64\n",
       "Max Power                        float64\n",
       "Torque                           float64\n",
       "Wheel Size                       float64\n",
       "dtype: object"
      ]
     },
     "execution_count": 13,
     "metadata": {},
     "output_type": "execute_result"
    }
   ],
   "source": [
    "df.dtypes"
   ]
  },
  {
   "cell_type": "code",
   "execution_count": 14,
   "metadata": {},
   "outputs": [],
   "source": [
    "# Clean the 'Engine' column by removing the 'cc' suffix\n",
    "df['Engine Displacement'] = df['Engine Displacement'].str.replace(' cc', '', regex=False)\n",
    "# Convert to numeric if needed\n",
    "df['Engine Displacement'] = pd.to_numeric(df['Engine Displacement'], errors='coerce')"
   ]
  },
  {
   "cell_type": "code",
   "execution_count": 15,
   "metadata": {},
   "outputs": [],
   "source": [
    "# List of columns you want to convert to lowercase\n",
    "a = ['ft', 'bt', 'oem','model','variantName','Insurance Validity','RTO','Transmission'] \n",
    "# Convert each specified column to lowercase\n",
    "for i in a:\n",
    "    df[i] = df[i].astype(str).str.lower()"
   ]
  },
  {
   "cell_type": "code",
   "execution_count": 16,
   "metadata": {},
   "outputs": [],
   "source": [
    "# Cleaning the 'price' column\n",
    "df['price'] = df['price'].replace(\n",
    "  {'₹ ': '', ',': '', ' Lakh': '*100000', ' Crore': '*10000000'}, regex=True)\n",
    "# Evaluate the string expressions to convert to numeric\n",
    "df['price'] = df['price'].apply(lambda x: eval(x))\n",
    "# Convert to float\n",
    "df['price'] = df['price'].astype(int)"
   ]
  },
  {
   "cell_type": "code",
   "execution_count": 17,
   "metadata": {},
   "outputs": [
    {
     "name": "stdout",
     "output_type": "stream",
     "text": [
      "          ft         bt  ownerNo            oem                  model  \\\n",
      "0     petrol      sedan        3         toyota           toyota camry   \n",
      "1     petrol  hatchback        1         datsun          datsun redigo   \n",
      "2     petrol        suv        1        renault          renault kiger   \n",
      "3     petrol  hatchback        2        hyundai            hyundai i20   \n",
      "4     diesel        suv        2           audi                audi q3   \n",
      "...      ...        ...      ...            ...                    ...   \n",
      "1376  petrol  hatchback        1         maruti         maruti celerio   \n",
      "1377  petrol  hatchback        1         maruti        maruti alto 800   \n",
      "1378  petrol      sedan        3  mercedes-benz  mercedes-benz c-class   \n",
      "1379  petrol  hatchback        1         maruti            maruti ritz   \n",
      "1380  diesel        suv        2        renault         renault duster   \n",
      "\n",
      "      modelYear  centralVariantId             variantName    price  \\\n",
      "0          2014              2123                  hybrid   975000   \n",
      "1          2017              5236                t option   266000   \n",
      "2          2021              8352                 rxt amt   595000   \n",
      "3          2011              1642              1.2 sportz   223000   \n",
      "4          2014                99  35 tdi quattro premium  1200000   \n",
      "...         ...               ...                     ...      ...   \n",
      "1376       2022              8682                zxi bsvi   509999   \n",
      "1377       2014              3943                     lxi   180000   \n",
      "1378       2011              4672      c 200 cgi elegance   550000   \n",
      "1379       2012              4144                     zxi   140000   \n",
      "1380       2017              5048    110ps diesel rxz awd   500000   \n",
      "\n",
      "                                           trendingText  ...  \\\n",
      "0     {'imgUrl': 'https://stimg.cardekho.com/used-ca...  ...   \n",
      "1     {'imgUrl': 'https://stimg.cardekho.com/used-ca...  ...   \n",
      "2     {'imgUrl': 'https://stimg.cardekho.com/used-ca...  ...   \n",
      "3     {'imgUrl': 'https://stimg.cardekho.com/used-ca...  ...   \n",
      "4     {'imgUrl': 'https://stimg.cardekho.com/used-ca...  ...   \n",
      "...                                                 ...  ...   \n",
      "1376  {'imgUrl': 'https://stimg.cardekho.com/used-ca...  ...   \n",
      "1377  {'imgUrl': 'https://stimg.cardekho.com/used-ca...  ...   \n",
      "1378  {'imgUrl': 'https://stimg.cardekho.com/used-ca...  ...   \n",
      "1379  {'imgUrl': 'https://stimg.cardekho.com/used-ca...  ...   \n",
      "1380  {'imgUrl': 'https://stimg.cardekho.com/used-ca...  ...   \n",
      "\n",
      "     Comfort & Convenience  Interior  Exterior Safety  \\\n",
      "0                       16        10        10     26   \n",
      "1                       10         7         6     15   \n",
      "2                       16        10        13     26   \n",
      "3                       14        12         9     17   \n",
      "4                       20        12        14     28   \n",
      "...                    ...       ...       ...    ...   \n",
      "1376                    12         9        10     25   \n",
      "1377                     7         7         3     10   \n",
      "1378                    20        12        20     25   \n",
      "1379                    12        10        10     22   \n",
      "1380                    21        13        11     27   \n",
      "\n",
      "      Entertainment & Communication Mileage   Max Power      Torque  \\\n",
      "0                                 5   19.16  158.200000  213.000000   \n",
      "1                                 5   22.70   53.640000   72.000000   \n",
      "2                                11   19.03   71.010000   96.000000   \n",
      "3                                 4   17.00  103.119629  170.553712   \n",
      "4                                 5   15.73  174.330000  380.000000   \n",
      "...                             ...     ...         ...         ...   \n",
      "1376                              7   25.24   65.710000   89.000000   \n",
      "1377                              0   22.74   47.300000   69.000000   \n",
      "1378                              6   11.74  186.000000  285.000000   \n",
      "1379                              5   18.50   85.800000  114.000000   \n",
      "1380                              9   19.72  108.450000  245.000000   \n",
      "\n",
      "      Wheel Size     city  \n",
      "0           17.0  Kolkata  \n",
      "1           16.0  Kolkata  \n",
      "2           16.0  Kolkata  \n",
      "3           14.0  Kolkata  \n",
      "4           16.0  Kolkata  \n",
      "...          ...      ...  \n",
      "1376        16.0  Kolkata  \n",
      "1377        16.0  Kolkata  \n",
      "1378        17.0  Kolkata  \n",
      "1379        14.0  Kolkata  \n",
      "1380        16.0  Kolkata  \n",
      "\n",
      "[1381 rows x 26 columns]\n"
     ]
    }
   ],
   "source": [
    "import pandas as pd\n",
    "\n",
    "#fill with city name\n",
    "df['city'] = 'Kolkata'\n",
    "\n",
    "# Display the updated DataFrame\n",
    "print(df)\n"
   ]
  },
  {
   "cell_type": "code",
   "execution_count": 18,
   "metadata": {},
   "outputs": [],
   "source": [
    "# Save the cleaned DataFrame as a CSV file\n",
    "df.to_csv('cleaned_kol_car.csv', index=False)"
   ]
  },
  {
   "cell_type": "code",
   "execution_count": 19,
   "metadata": {},
   "outputs": [
    {
     "data": {
      "text/plain": [
       "ft                                object\n",
       "bt                                object\n",
       "ownerNo                            int64\n",
       "oem                               object\n",
       "model                             object\n",
       "modelYear                          int64\n",
       "centralVariantId                   int64\n",
       "variantName                       object\n",
       "price                              int32\n",
       "trendingText                      object\n",
       "Insurance Validity                object\n",
       "Seats                              int32\n",
       "Kms Driven                         int32\n",
       "RTO                               object\n",
       "Engine Displacement                int64\n",
       "Transmission                      object\n",
       "Comfort & Convenience              int64\n",
       "Interior                           int64\n",
       "Exterior                           int64\n",
       "Safety                             int64\n",
       "Entertainment & Communication      int64\n",
       "Mileage                          float64\n",
       "Max Power                        float64\n",
       "Torque                           float64\n",
       "Wheel Size                       float64\n",
       "city                              object\n",
       "dtype: object"
      ]
     },
     "execution_count": 19,
     "metadata": {},
     "output_type": "execute_result"
    }
   ],
   "source": [
    "df.dtypes"
   ]
  }
 ],
 "metadata": {
  "kernelspec": {
   "display_name": "Python 3",
   "language": "python",
   "name": "python3"
  },
  "language_info": {
   "codemirror_mode": {
    "name": "ipython",
    "version": 3
   },
   "file_extension": ".py",
   "mimetype": "text/x-python",
   "name": "python",
   "nbconvert_exporter": "python",
   "pygments_lexer": "ipython3",
   "version": "3.12.4"
  }
 },
 "nbformat": 4,
 "nbformat_minor": 2
}
