{
 "cells": [
  {
   "cell_type": "code",
   "execution_count": 11,
   "metadata": {},
   "outputs": [
    {
     "name": "stdout",
     "output_type": "stream",
     "text": [
      "   it      ft         bt      km transmission  ownerNo      owner      oem  \\\n",
      "0   0  Petrol      Sedan  70,000    Automatic        3  3rd Owner   Toyota   \n",
      "1   0  Petrol  Hatchback  23,981       Manual        1  1st Owner   Datsun   \n",
      "2   0  Petrol        SUV   7,100    Automatic        1  1st Owner  Renault   \n",
      "3   0  Petrol  Hatchback  71,574       Manual        2  2nd Owner  Hyundai   \n",
      "4   0  Diesel        SUV  50,000    Automatic        2  2nd Owner     Audi   \n",
      "\n",
      "           model  modelYear  centralVariantId             variantName  \\\n",
      "0   Toyota Camry       2014              2123                  Hybrid   \n",
      "1  Datsun RediGO       2017              5236                T Option   \n",
      "2  Renault Kiger       2021              8352                 RXT AMT   \n",
      "3    Hyundai i20       2011              1642              1.2 Sportz   \n",
      "4        Audi Q3       2014                99  35 TDI Quattro Premium   \n",
      "\n",
      "         price priceActual priceSaving priceFixedText  \\\n",
      "0  ₹ 9.75 Lakh                                   None   \n",
      "1  ₹ 2.66 Lakh                                   None   \n",
      "2  ₹ 5.95 Lakh                                   None   \n",
      "3  ₹ 2.23 Lakh                                   None   \n",
      "4    ₹ 12 Lakh                                   None   \n",
      "\n",
      "                                        trendingText  \n",
      "0  {'imgUrl': 'https://stimg.cardekho.com/used-ca...  \n",
      "1  {'imgUrl': 'https://stimg.cardekho.com/used-ca...  \n",
      "2  {'imgUrl': 'https://stimg.cardekho.com/used-ca...  \n",
      "3  {'imgUrl': 'https://stimg.cardekho.com/used-ca...  \n",
      "4  {'imgUrl': 'https://stimg.cardekho.com/used-ca...  \n"
     ]
    }
   ],
   "source": [
    "import pandas as pd\n",
    "import ast\n",
    "\n",
    "# Load the Excel file\n",
    "df = pd.read_excel('D:/Car price prediction/DATASET/kolkata_cars.xlsx')\n",
    "\n",
    "# Function to flatten the nested dictionary in the first column\n",
    "def flatten_column(column):\n",
    "    flattened_data = []\n",
    "    for item in column:\n",
    "        # Convert string representation of dictionary to actual dictionary\n",
    "        data_dict = ast.literal_eval(item)\n",
    "        flattened_data.append(data_dict)\n",
    "    return pd.DataFrame(flattened_data)\n",
    "\n",
    "# Flatten the first column\n",
    "flattened_df = flatten_column(df['new_car_detail'])\n",
    "\n",
    "# Display the first few rows of the flattened data\n",
    "print(flattened_df.head())"
   ]
  },
  {
   "cell_type": "code",
   "execution_count": 20,
   "metadata": {},
   "outputs": [
    {
     "data": {
      "text/plain": [
       "(1381, 17)"
      ]
     },
     "execution_count": 20,
     "metadata": {},
     "output_type": "execute_result"
    }
   ],
   "source": [
    "flattened_df.shape"
   ]
  },
  {
   "cell_type": "code",
   "execution_count": 12,
   "metadata": {},
   "outputs": [
    {
     "name": "stdout",
     "output_type": "stream",
     "text": [
      "  Registration Year     Insurance Validity Fuel Type    Seats  Kms Driven  \\\n",
      "0              2014  Third Party insurance    Petrol  5 Seats  70,000 Kms   \n",
      "1          Jul 2017          Comprehensive    Petrol  5 Seats  23,981 Kms   \n",
      "2          Nov 2021          Comprehensive    Petrol  5 Seats   7,100 Kms   \n",
      "3          Feb 2012            Third Party    Petrol  5 Seats  71,574 Kms   \n",
      "4              2014  Third Party insurance    Diesel  5 Seats  50,000 Kms   \n",
      "\n",
      "    RTO     Ownership Engine Displacement Transmission  Year of Manufacture  \n",
      "0  WB02   Third Owner             2494 cc    Automatic               2014.0  \n",
      "1  WB24   First Owner              799 cc       Manual               2017.0  \n",
      "2  WB06   First Owner              999 cc    Automatic               2021.0  \n",
      "3  WB06  Second Owner             1197 cc       Manual               2011.0  \n",
      "4  WB02  Second Owner             1968 cc    Automatic               2014.0  \n"
     ]
    }
   ],
   "source": [
    "import pandas as pd\n",
    "import ast\n",
    "\n",
    "# Load the Excel file\n",
    "df = pd.read_excel('D:/Car price prediction/DATASET/kolkata_cars.xlsx')\n",
    "\n",
    "# Function to flatten the nested dictionary in the second column\n",
    "def flatten_overview_column(column):\n",
    "    flattened_data = []\n",
    "    for item in column:\n",
    "        # Convert string representation of dictionary to actual dictionary\n",
    "        data_dict = ast.literal_eval(item)\n",
    "        # Extract relevant information\n",
    "        flat_dict = {\n",
    "            'Registration Year': None,\n",
    "            'Insurance Validity': None,\n",
    "            'Fuel Type': None,\n",
    "            'Seats': None,\n",
    "            'Kms Driven': None,\n",
    "            'RTO': None,\n",
    "            'Ownership': None,\n",
    "            'Engine Displacement': None,\n",
    "            'Transmission': None,\n",
    "            'Year of Manufacture': None\n",
    "        }\n",
    "        for entry in data_dict['top']:\n",
    "            flat_dict[entry['key']] = entry['value']\n",
    "        flattened_data.append(flat_dict)\n",
    "    return pd.DataFrame(flattened_data)\n",
    "\n",
    "# Flatten the second column\n",
    "flattened_overview_df = flatten_overview_column(df['new_car_overview'])\n",
    "\n",
    "# Display the first few rows of the flattened data\n",
    "print(flattened_overview_df.head())"
   ]
  },
  {
   "cell_type": "code",
   "execution_count": 21,
   "metadata": {},
   "outputs": [
    {
     "data": {
      "text/plain": [
       "(1381, 10)"
      ]
     },
     "execution_count": 21,
     "metadata": {},
     "output_type": "execute_result"
    }
   ],
   "source": [
    "flattened_overview_df.shape"
   ]
  },
  {
   "cell_type": "code",
   "execution_count": 13,
   "metadata": {},
   "outputs": [
    {
     "name": "stdout",
     "output_type": "stream",
     "text": [
      "                               Comfort & Convenience  \\\n",
      "0  [Power Steering, Power Windows Front, Power Wi...   \n",
      "1  [Power Steering, Power Windows Front, Remote T...   \n",
      "2  [Power Steering, Power Windows Front, Power Wi...   \n",
      "3  [Power Steering, Power Windows Front, Power Wi...   \n",
      "4  [Power Steering, Power Windows Front, Power Wi...   \n",
      "\n",
      "                                            Interior  \\\n",
      "0  [Air Conditioner, Heater, Adjustable Steering,...   \n",
      "1  [Air Conditioner, Heater, Tachometer, Electron...   \n",
      "2  [Air Conditioner, Heater, Adjustable Steering,...   \n",
      "3  [Air Conditioner, Heater, Adjustable Steering,...   \n",
      "4  [Air Conditioner, Heater, Adjustable Steering,...   \n",
      "\n",
      "                                            Exterior  \\\n",
      "0  [Adjustable Head Lights, Fog Lights Front, Fog...   \n",
      "1  [Adjustable Head Lights, Manually Adjustable E...   \n",
      "2  [Adjustable Head Lights, Power Adjustable Exte...   \n",
      "3  [Fog Lights Rear, Power Adjustable Exterior Re...   \n",
      "4  [Adjustable Head Lights, Fog Lights Front, Fog...   \n",
      "\n",
      "                                              Safety  \\\n",
      "0  [Anti Lock Braking System, Brake Assist, Cente...   \n",
      "1  [Anti Lock Braking System, Centeral Locking, C...   \n",
      "2  [Anti Lock Braking System, Centeral Locking, P...   \n",
      "3  [Centeral Locking, Power Door Locks, Child Saf...   \n",
      "4  [Anti Lock Braking System, Brake Assist, Cente...   \n",
      "\n",
      "                       Entertainment & Communication  \n",
      "0  [Cd Player, Dvd Player, Radio, Speakers Front,...  \n",
      "1  [Radio, Speakers Front, Usb Auxiliary Input, B...  \n",
      "2  [Radio, Speakers Front, Speakers Rear, Integra...  \n",
      "3  [Cd Player, Radio, Speakers Front, Speakers Rear]  \n",
      "4  [Cd Player, Radio, Audio System Remote Control...  \n"
     ]
    }
   ],
   "source": [
    "import pandas as pd\n",
    "import ast\n",
    "\n",
    "# Load the Excel file\n",
    "df = pd.read_excel('D:/Car price prediction/DATASET/kolkata_cars.xlsx')\n",
    "\n",
    "# Function to flatten the nested dictionary in the third column\n",
    "def flatten_features_column(column):\n",
    "    flattened_data = []\n",
    "    for item in column:\n",
    "        # Convert string representation of dictionary to actual dictionary\n",
    "        data_dict = ast.literal_eval(item)\n",
    "        # Extract relevant features\n",
    "        flat_dict = {\n",
    "            'Comfort & Convenience': [],\n",
    "            'Interior': [],\n",
    "            'Exterior': [],\n",
    "            'Safety': [],\n",
    "            'Entertainment & Communication': []\n",
    "        }\n",
    "        for feature_category in data_dict['data']:\n",
    "            category_name = feature_category['heading']\n",
    "            for feature in feature_category['list']:\n",
    "                flat_dict[category_name].append(feature['value'])\n",
    "        flattened_data.append(flat_dict)\n",
    "    return pd.DataFrame(flattened_data)\n",
    "\n",
    "# Flatten the third column\n",
    "flattened_features_df = flatten_features_column(df['new_car_feature'])\n",
    "\n",
    "# Display the first few rows of the flattened data\n",
    "print(flattened_features_df.head())"
   ]
  },
  {
   "cell_type": "code",
   "execution_count": 22,
   "metadata": {},
   "outputs": [
    {
     "data": {
      "text/plain": [
       "(1381, 5)"
      ]
     },
     "execution_count": 22,
     "metadata": {},
     "output_type": "execute_result"
    }
   ],
   "source": [
    "flattened_features_df.shape"
   ]
  },
  {
   "cell_type": "code",
   "execution_count": 15,
   "metadata": {},
   "outputs": [
    {
     "name": "stdout",
     "output_type": "stream",
     "text": [
      "      Mileage   Engine          Max Power                 Torque Wheel Size  \\\n",
      "0  19.16 kmpl  2494 CC           158.2bhp                  213Nm         17   \n",
      "1   22.7 kmpl   799 CC           53.64bhp                   72Nm       None   \n",
      "2  19.03 kmpl   999 CC           71.01bhp                   96Nm       None   \n",
      "3     17 kmpl  1197 CC  80 PS at 5200 rpm  11.4 kgm at 4,000 rpm         14   \n",
      "4  15.73 kmpl  1968 CC          174.33bhp                  380Nm         16   \n",
      "\n",
      "  Seats  \n",
      "0     5  \n",
      "1     5  \n",
      "2     5  \n",
      "3     5  \n",
      "4     5  \n"
     ]
    }
   ],
   "source": [
    "import pandas as pd\n",
    "import ast\n",
    "\n",
    "# Load the Excel file\n",
    "df = pd.read_excel('D:/Car price prediction/DATASET/kolkata_cars.xlsx')\n",
    "\n",
    "# Function to flatten the nested dictionary in the fourth column\n",
    "def flatten_specs_column(column):\n",
    "    flattened_data = []\n",
    "    for item in column:\n",
    "        # Convert string representation of dictionary to actual dictionary\n",
    "        data_dict = ast.literal_eval(item)\n",
    "        # Extract relevant specifications\n",
    "        flat_dict = {\n",
    "            'Mileage': None,\n",
    "            'Engine': None,\n",
    "            'Max Power': None,\n",
    "            'Torque': None,\n",
    "            'Wheel Size': None,\n",
    "            'Seats': None\n",
    "        }\n",
    "        for spec_category in data_dict['top']:\n",
    "            flat_dict[spec_category['key']] = spec_category['value']\n",
    "        flattened_data.append(flat_dict)\n",
    "    return pd.DataFrame(flattened_data)\n",
    "\n",
    "# Flatten the fourth column\n",
    "flattened_specs_df = flatten_specs_column(df['new_car_specs'])\n",
    "\n",
    "# Display the first few rows of the flattened data\n",
    "print(flattened_specs_df.head())"
   ]
  },
  {
   "cell_type": "code",
   "execution_count": 23,
   "metadata": {},
   "outputs": [
    {
     "data": {
      "text/plain": [
       "(1381, 6)"
      ]
     },
     "execution_count": 23,
     "metadata": {},
     "output_type": "execute_result"
    }
   ],
   "source": [
    "flattened_specs_df.shape"
   ]
  },
  {
   "cell_type": "code",
   "execution_count": 32,
   "metadata": {},
   "outputs": [],
   "source": [
    "import pandas as pd\n",
    "\n",
    "# Concatenate DataFrames horizontally\n",
    "merged_df = pd.concat([flattened_df, flattened_overview_df, flattened_features_df, flattened_specs_df], axis=1)\n",
    "\n",
    "# Save to CSV\n",
    "merged_df.to_csv('Kol_car_merged_dataset.csv', index=False)\n",
    "\n",
    "\n"
   ]
  },
  {
   "cell_type": "code",
   "execution_count": 1,
   "metadata": {},
   "outputs": [
    {
     "name": "stdout",
     "output_type": "stream",
     "text": [
      "   it      ft         bt      km transmission  ownerNo      owner      oem  \\\n",
      "0   0  Petrol      Sedan  70,000    Automatic        3  3rd Owner   Toyota   \n",
      "1   0  Petrol  Hatchback  23,981       Manual        1  1st Owner   Datsun   \n",
      "2   0  Petrol        SUV   7,100    Automatic        1  1st Owner  Renault   \n",
      "3   0  Petrol  Hatchback  71,574       Manual        2  2nd Owner  Hyundai   \n",
      "4   0  Diesel        SUV  50,000    Automatic        2  2nd Owner     Audi   \n",
      "\n",
      "           model  modelYear  ...  Interior Exterior Safety  \\\n",
      "0   Toyota Camry       2014  ...        10       10     26   \n",
      "1  Datsun RediGO       2017  ...         7        6     15   \n",
      "2  Renault Kiger       2021  ...        10       13     26   \n",
      "3    Hyundai i20       2011  ...        12        9     17   \n",
      "4        Audi Q3       2014  ...        12       14     28   \n",
      "\n",
      "  Entertainment & Communication     Mileage   Engine          Max Power  \\\n",
      "0                             5  19.16 kmpl  2494 CC           158.2bhp   \n",
      "1                             5   22.7 kmpl   799 CC           53.64bhp   \n",
      "2                            11  19.03 kmpl   999 CC           71.01bhp   \n",
      "3                             4     17 kmpl  1197 CC  80 PS at 5200 rpm   \n",
      "4                             5  15.73 kmpl  1968 CC          174.33bhp   \n",
      "\n",
      "                  Torque Wheel Size Seats.1  \n",
      "0                  213Nm         17     5.0  \n",
      "1                   72Nm        NaN     5.0  \n",
      "2                   96Nm        NaN     5.0  \n",
      "3  11.4 kgm at 4,000 rpm         14     5.0  \n",
      "4                  380Nm         16     5.0  \n",
      "\n",
      "[5 rows x 38 columns]\n"
     ]
    }
   ],
   "source": [
    "import pandas as pd\n",
    "\n",
    "\n",
    "# Load the CSV data\n",
    "df = pd.read_csv('D:/Car price prediction/New dataset/kol_car_merged_dataset.csv')\n",
    "\n",
    "# Counting the number of elements in the list for specified columns\n",
    "columns_to_count = [\"Comfort & Convenience\", \"Interior\", \"Exterior\", \"Safety\", \"Entertainment & Communication\"]\n",
    "for column in columns_to_count:\n",
    "    df[column] = df[column].apply(lambda x: len(eval(x)) if isinstance(x, str) else 0)\n",
    "\n",
    "# Display the modified dataframe\n",
    "print(df.head())\n",
    "df.to_csv('kol_car_merged_dataset1.csv', index=False)"
   ]
  },
  {
   "cell_type": "code",
   "execution_count": null,
   "metadata": {},
   "outputs": [],
   "source": []
  }
 ],
 "metadata": {
  "kernelspec": {
   "display_name": "Python 3",
   "language": "python",
   "name": "python3"
  },
  "language_info": {
   "codemirror_mode": {
    "name": "ipython",
    "version": 3
   },
   "file_extension": ".py",
   "mimetype": "text/x-python",
   "name": "python",
   "nbconvert_exporter": "python",
   "pygments_lexer": "ipython3",
   "version": "3.12.4"
  }
 },
 "nbformat": 4,
 "nbformat_minor": 2
}
